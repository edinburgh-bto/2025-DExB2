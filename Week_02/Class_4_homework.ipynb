{
 "cells": [
  {
   "cell_type": "markdown",
   "id": "9cf2e050",
   "metadata": {},
   "source": [
    "# Class 4 homework: More practise with re-shaping dataframes\n"
   ]
  },
  {
   "cell_type": "markdown",
   "id": "e0583288",
   "metadata": {},
   "source": [
    "Let's look at a few more datasets. These will give you a bit more practice using some of the functions you have learned over the last few classes. These are tricky, and we are deliberately providing only sparse instructions so that you can challenge yourself. Work together if you can, and remember that in class you can ask the demonstrators for help if you need.\n"
   ]
  },
  {
   "cell_type": "markdown",
   "id": "1659ad3d",
   "metadata": {},
   "source": [
    "## Load the modules\n",
    "\n",
    "First, let's import pandas and seaborn."
   ]
  },
  {
   "cell_type": "code",
   "execution_count": null,
   "id": "1a64ed90",
   "metadata": {},
   "outputs": [],
   "source": [
    "import pandas as pd\n",
    "import seaborn as sns"
   ]
  },
  {
   "cell_type": "markdown",
   "id": "bf1d8ccf-11c0-4839-9df0-ee236c6b08c9",
   "metadata": {},
   "source": [
    "## A dataset on bird nests in Greenland\n",
    "\n",
    "This dataset includes information on nesting sites, the number of nests assessed at each site, and the number of chicks found in each nest (calculated as a frequency across five different levels).\n",
    "\n",
    "First, read in `Greenland_nests.csv` from the Datasets folder. Then look at the dataset to make sure it has loaded correctly."
   ]
  },
  {
   "cell_type": "code",
   "execution_count": null,
   "id": "7489c33f",
   "metadata": {},
   "outputs": [],
   "source": []
  },
  {
   "cell_type": "code",
   "execution_count": null,
   "id": "738f3c07",
   "metadata": {},
   "outputs": [],
   "source": []
  },
  {
   "cell_type": "markdown",
   "id": "c10b3ed2",
   "metadata": {},
   "source": [
    "Now try melting this dataset into long form. Call your variable name 'No_chicks' and your value name 'Frequency'. Hint: your values are contained within the '0 chicks', '1 chick', '2 chicks', '3 chicks ' and '>3 chicks' columns."
   ]
  },
  {
   "cell_type": "code",
   "execution_count": null,
   "id": "8441d6db",
   "metadata": {},
   "outputs": [],
   "source": []
  },
  {
   "cell_type": "code",
   "execution_count": null,
   "id": "7155590c",
   "metadata": {},
   "outputs": [],
   "source": []
  },
  {
   "cell_type": "markdown",
   "id": "bdd05675",
   "metadata": {},
   "source": [
    "Now have a go plotting these data using the following code `sns.stripplot(x = 'No_chicks', y = 'Frequency', hue = 'Nesting Site', data = df_melt);`. You might need to edit this depending on what you called your dataframe."
   ]
  },
  {
   "cell_type": "code",
   "execution_count": null,
   "id": "e0b832be",
   "metadata": {},
   "outputs": [],
   "source": []
  },
  {
   "cell_type": "markdown",
   "id": "71c86e1d",
   "metadata": {},
   "source": [
    "# A dataset on plant locations\n",
    "\n",
    "This dataset contains location information for the plant *Begonia conchifolia*. \n",
    "\n",
    "Read in the B_conch_loc.csv file from the Datasets folder. Check to make sure it has loaded correctly."
   ]
  },
  {
   "cell_type": "code",
   "execution_count": null,
   "id": "d1a3a655",
   "metadata": {},
   "outputs": [],
   "source": []
  },
  {
   "cell_type": "code",
   "execution_count": null,
   "id": "f81b9b90",
   "metadata": {},
   "outputs": [],
   "source": []
  },
  {
   "cell_type": "markdown",
   "id": "664d6fca",
   "metadata": {},
   "source": [
    "&nbsp;  \n",
    "<div>\n",
    "<img src=\"attachment:begonia-7875959_640.jpg\" width='50%' title=\"\"/>\n",
    "</div>\n",
    "&nbsp;  \n",
    "\n",
    "Unfortunately, this dataset hasn't loaded in correctly as the first row has been used as the column headers. Try again, this time including `header = None` in your code. Then use `df.head()` to see what it looks like."
   ]
  },
  {
   "cell_type": "code",
   "execution_count": null,
   "id": "1b9d4030",
   "metadata": {},
   "outputs": [],
   "source": []
  },
  {
   "cell_type": "code",
   "execution_count": null,
   "id": "84747e5c",
   "metadata": {},
   "outputs": [],
   "source": []
  },
  {
   "cell_type": "markdown",
   "id": "e0b6ae43",
   "metadata": {},
   "source": [
    "Check the data types of each variable."
   ]
  },
  {
   "cell_type": "code",
   "execution_count": null,
   "id": "29a65589",
   "metadata": {},
   "outputs": [],
   "source": []
  },
  {
   "cell_type": "markdown",
   "id": "49161033",
   "metadata": {},
   "source": [
    "Now let's try and tidy it up a little. First, make a new column called 'Reference' which concatenates all the information from columns 4 - 8. Remember, you will need to use the code `.astype(str)` if the variables are not coded as strings."
   ]
  },
  {
   "cell_type": "code",
   "execution_count": null,
   "id": "5924a7d3",
   "metadata": {},
   "outputs": [],
   "source": []
  },
  {
   "cell_type": "markdown",
   "id": "e07ef81a",
   "metadata": {},
   "source": [
    "Now drop columns 4 - 8 as we don't need them any more."
   ]
  },
  {
   "cell_type": "code",
   "execution_count": null,
   "id": "1ea20932",
   "metadata": {},
   "outputs": [],
   "source": []
  },
  {
   "cell_type": "markdown",
   "id": "20086581",
   "metadata": {},
   "source": [
    "Now let's split column 3 into longitude and latitude. Use `str.split` to split this column and form two new columns called Longitude and Latitude. Note that the separator is ', ' this time."
   ]
  },
  {
   "cell_type": "code",
   "execution_count": null,
   "id": "f43ce7f1",
   "metadata": {},
   "outputs": [],
   "source": []
  },
  {
   "cell_type": "markdown",
   "id": "082aac3d",
   "metadata": {},
   "source": [
    "Now drop column 3."
   ]
  },
  {
   "cell_type": "code",
   "execution_count": null,
   "id": "d82d65bc",
   "metadata": {},
   "outputs": [],
   "source": []
  },
  {
   "cell_type": "markdown",
   "id": "e20482b9",
   "metadata": {},
   "source": [
    "And finally, rename the columns using `['Species_name', 'Country', 'Location', 'Reference', 'Longitude', 'Latitude']`."
   ]
  },
  {
   "cell_type": "code",
   "execution_count": null,
   "id": "fa0670fa",
   "metadata": {},
   "outputs": [],
   "source": []
  },
  {
   "cell_type": "markdown",
   "id": "6183f860",
   "metadata": {},
   "source": [
    "Now you can stand back and admire your lovely tidy dataset!"
   ]
  },
  {
   "cell_type": "markdown",
   "id": "b12f3d78",
   "metadata": {},
   "source": [
    "## If you have more time...\n",
    "\n",
    "Spend some time this week going over all the material we have covered so far. Are there any functions that you don't understand? Have a go playing with these on some other datasets. And if you haven't already, start putting together your own cheat sheet of useful functions."
   ]
  },
  {
   "cell_type": "code",
   "execution_count": null,
   "id": "445263a3",
   "metadata": {},
   "outputs": [],
   "source": []
  }
 ],
 "metadata": {
  "kernelspec": {
   "display_name": "Python 3 (ipykernel)",
   "language": "python",
   "name": "python3"
  },
  "language_info": {
   "codemirror_mode": {
    "name": "ipython",
    "version": 3
   },
   "file_extension": ".py",
   "mimetype": "text/x-python",
   "name": "python",
   "nbconvert_exporter": "python",
   "pygments_lexer": "ipython3",
   "version": "3.12.11"
  }
 },
 "nbformat": 4,
 "nbformat_minor": 5
}
