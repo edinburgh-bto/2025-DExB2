{
 "cells": [
  {
   "cell_type": "markdown",
   "id": "f840ebfc",
   "metadata": {},
   "source": [
    "# Class 1 Homework: Python thinking\n",
    "\n",
    "This homework has more on the basics of Python. These are the kind of things that can cause errors, so we are going to practice making some errors and understanding what to do next.\n",
    "\n",
    "Some of this material is also covered in the Python tutorial at https://docs.python.org/3/tutorial/introduction.html\n",
    "\n",
    "It's also covered in Python for Biologists, by Martin Jones, and our recommended course books.\n"
   ]
  },
  {
   "cell_type": "markdown",
   "id": "367f1f35-b00c-48c8-8282-278ce1c2538f",
   "metadata": {},
   "source": [
    "We'll load modules first, as it's helpful to have them at the beginning of a notebook, even though we won't use these until much later."
   ]
  },
  {
   "cell_type": "code",
   "execution_count": null,
   "id": "c92da720",
   "metadata": {},
   "outputs": [],
   "source": [
    "import numpy as np\n",
    "import pandas as pd"
   ]
  },
  {
   "cell_type": "markdown",
   "id": "8a2c4ecd-1ab0-49a6-92ab-41751eea2d3d",
   "metadata": {},
   "source": [
    "## Python data types\n",
    "\n",
    "What is the difference between these lines of code?\n",
    "\n",
    "Before you run each line, try to predict the outcome.\n",
    "\n",
    "If the line gives an error, try to understand it."
   ]
  },
  {
   "cell_type": "code",
   "execution_count": null,
   "id": "86507a20-1acb-497d-a95c-39ac45be1570",
   "metadata": {},
   "outputs": [],
   "source": [
    "1 + 1"
   ]
  },
  {
   "cell_type": "code",
   "execution_count": null,
   "id": "19ca052c-09c5-4db5-842c-7056d3e69ffc",
   "metadata": {},
   "outputs": [],
   "source": [
    "'1' + '1'"
   ]
  },
  {
   "cell_type": "code",
   "execution_count": null,
   "id": "dd64c4e3-fdc1-4191-97b7-ad85c51a34dd",
   "metadata": {},
   "outputs": [],
   "source": [
    "1 + '1'"
   ]
  },
  {
   "cell_type": "code",
   "execution_count": null,
   "id": "53aeb15f-126f-4a2d-b6ca-ac1e5c702c93",
   "metadata": {},
   "outputs": [],
   "source": [
    "one + one"
   ]
  },
  {
   "cell_type": "code",
   "execution_count": null,
   "id": "60d54c41-fa1a-481a-a23b-2f21bd87c623",
   "metadata": {},
   "outputs": [],
   "source": [
    "'one' + 'one'"
   ]
  },
  {
   "cell_type": "code",
   "execution_count": null,
   "id": "d93dea9b-9065-4ac6-850d-631b9fa4a3ae",
   "metadata": {},
   "outputs": [],
   "source": [
    "'one' + '1'"
   ]
  },
  {
   "cell_type": "markdown",
   "id": "d77d2ac6-4740-45da-ba80-50d7f4dd407a",
   "metadata": {},
   "source": [
    "Does 1 plus 1 equal 2, or 11?\n",
    "\n",
    "This may seem absurd, but programming languages need to keep track of many different kinds of things: numbers, text, dates, data frames, etc.\n",
    "\n",
    "Everything that Python plays with, has a \"data type\" that tracks what kind of thing it is, what the allowed values are, and what you can do with it. Most programming languages have a concept of \"data type\", to tell the difference between numbers, text, and so on. [Data type at simple english wikipedia](https://simple.wikipedia.org/wiki/Data_type).\n",
    "\n",
    "**Quotes** around a Python object tell Python to interpret it as a string, i.e. text.\n",
    "\n",
    "We'll use data frames mostly on this course. Data frames can contain different kinds of information in different columns - one column can be a number and another text. However, some background knowledge on how Python deals with other kinds of objects helps to understand how it works, and especially what goes wrong and how to fix it."
   ]
  },
  {
   "cell_type": "markdown",
   "id": "f9ae5c2f-486c-4f5b-be87-631144f3f0e7",
   "metadata": {},
   "source": [
    "In Python, the `type` function tells you what kind of data a given thing is. Common data types include:\n",
    "\n",
    "- int / integer for whole numbers\n",
    "- float / numeric for non-whole numbers\n",
    "- str / string for text\n",
    "- datetime - basic dates and times\n",
    "- bool / logical for True and False values. (bool is short for Boolean logic)"
   ]
  },
  {
   "cell_type": "code",
   "execution_count": null,
   "id": "fbdf7c9b-50df-48fb-9cae-aa718d965ea0",
   "metadata": {},
   "outputs": [],
   "source": [
    "type(1)"
   ]
  },
  {
   "cell_type": "code",
   "execution_count": null,
   "id": "f9c685bf-708d-44b8-884b-8684f13f98ef",
   "metadata": {},
   "outputs": [],
   "source": [
    "type('1')"
   ]
  },
  {
   "cell_type": "code",
   "execution_count": null,
   "id": "c9bbc394-b2e5-4377-950d-f686ee4187fb",
   "metadata": {},
   "outputs": [],
   "source": [
    "type(1.0)"
   ]
  },
  {
   "cell_type": "code",
   "execution_count": null,
   "id": "dac25be7-a2c4-4ec8-94a7-3fe55cba1486",
   "metadata": {},
   "outputs": [],
   "source": [
    "type(True)"
   ]
  },
  {
   "cell_type": "markdown",
   "id": "f31e6491-2756-48f7-b3b3-ad2f759c16f7",
   "metadata": {},
   "source": [
    "So with code like `1 + '1'` - they are different types. It makes no sense to add a number to a string, so it's not allowed by Python.\n",
    "\n",
    "But it does make sense to add two different kinds of numbers. So add an integer to a floating point number and you get another floating point number.\n",
    "\n",
    "Note that Python tells you that it thinks a number is a floating point number by displaying the decimal place. What's happening in the next cells?"
   ]
  },
  {
   "cell_type": "code",
   "execution_count": null,
   "id": "3fadde15-98cb-4350-9fc9-aa1a1e0d6e51",
   "metadata": {},
   "outputs": [],
   "source": [
    "1 + 1.5"
   ]
  },
  {
   "cell_type": "code",
   "execution_count": null,
   "id": "80ada06a-ad9f-4742-b9d3-2607ff503b57",
   "metadata": {},
   "outputs": [],
   "source": [
    "1 + 2"
   ]
  },
  {
   "cell_type": "code",
   "execution_count": null,
   "id": "14ced14b-3be3-4593-a33d-e77c606c2e1b",
   "metadata": {},
   "outputs": [],
   "source": [
    "1 + 2.0"
   ]
  },
  {
   "cell_type": "code",
   "execution_count": null,
   "id": "b33736d2-8683-46dc-9f6b-3c57c6dd205f",
   "metadata": {},
   "outputs": [],
   "source": [
    "1.5 + 1.5"
   ]
  },
  {
   "cell_type": "markdown",
   "id": "36df3c2d-c3e1-437a-90ca-74ac9a53b045",
   "metadata": {},
   "source": [
    "This can have intended, or unintended effects. For example, logical values can be interpreted `True` as `1`, and `False` as `0` - this is bad if you don't want it, and good if you do.\n",
    "\n",
    "Try playing around with these to help you understand it."
   ]
  },
  {
   "cell_type": "code",
   "execution_count": null,
   "id": "631152f1-f55a-43b1-af40-806ddb55a29d",
   "metadata": {},
   "outputs": [],
   "source": [
    "1 + True"
   ]
  },
  {
   "cell_type": "code",
   "execution_count": null,
   "id": "3dc105e6-900f-410d-bdf3-5d1f983aeb57",
   "metadata": {},
   "outputs": [],
   "source": []
  },
  {
   "cell_type": "markdown",
   "id": "55ef7fbb-100c-4692-8d2a-a02e9b764cd1",
   "metadata": {},
   "source": [
    "## Wait, can I just use Python as a calculator?\n",
    "\n",
    "Yes you can. You can add, multiply, divide, and exponentiate to your heart's content.\n",
    "\n",
    "More advanced functions, like logarithms and exponentials, tend to be found in the `numpy` module.\n",
    "\n",
    "Play around here, if you like..."
   ]
  },
  {
   "cell_type": "code",
   "execution_count": null,
   "id": "e9df1d2e-f92d-46e3-b001-a3c7fdf420b4",
   "metadata": {},
   "outputs": [],
   "source": [
    "1000000 + 1"
   ]
  },
  {
   "cell_type": "code",
   "execution_count": null,
   "id": "0ee1ff7c-f927-4f88-9608-092c442cf070",
   "metadata": {},
   "outputs": [],
   "source": [
    "np.log2(8)"
   ]
  },
  {
   "cell_type": "code",
   "execution_count": null,
   "id": "552678a3-4630-46ea-bbed-65642a046e9b",
   "metadata": {},
   "outputs": [],
   "source": [
    "np.exp(10)"
   ]
  },
  {
   "cell_type": "code",
   "execution_count": null,
   "id": "415d1872-3d11-43b1-bb26-a89eecd16979",
   "metadata": {},
   "outputs": [],
   "source": []
  },
  {
   "cell_type": "markdown",
   "id": "e33e71a7-a94e-4159-a40d-1f4507e383b0",
   "metadata": {},
   "source": [
    "Again, there's more on this in the Python tutorial we linked to at the beginning."
   ]
  },
  {
   "cell_type": "markdown",
   "id": "5ca012f9-e515-4af6-b35a-5b3a737b25e9",
   "metadata": {},
   "source": [
    "Remember, the `+` sign can do different things on different data types. As you will be able to see from the exercises above, using the `+` operator to combine ints or floats will return ints and floats respectively. If there is a mix of ints and floats, then Python will return a float.\n",
    "\n",
    "You may be thinking, but then why can I add two strings? Remember, operators and functions do different things on different data types. So when we use the `+` operator on strings, we are joining (or 'concatenating') them together."
   ]
  },
  {
   "cell_type": "code",
   "execution_count": null,
   "id": "8ff8908f-0666-41cd-b27e-99206b280249",
   "metadata": {},
   "outputs": [],
   "source": [
    "'how' + ' ' + 'to' + ' ' + 'add' + ' ' + 'strings'"
   ]
  },
  {
   "cell_type": "markdown",
   "id": "05c0d814-82d3-4937-9321-78b84bef2d3e",
   "metadata": {},
   "source": [
    "Using strings and the `+` operator, try writing some code in the cell below that will produce a short sentence, just like the example above."
   ]
  },
  {
   "cell_type": "code",
   "execution_count": null,
   "id": "6b3dea44-0b1d-4a39-8190-9eba63c4e64d",
   "metadata": {},
   "outputs": [],
   "source": []
  },
  {
   "cell_type": "markdown",
   "id": "8407bf39-bb7e-4b49-8de6-af786c201af0",
   "metadata": {},
   "source": [
    "## Functions\n",
    "\n",
    "Functions have input and output - we are revising here from the material on functions in Discovery first year course.\n",
    "\n",
    "One function we like to use is `print`, to display things."
   ]
  },
  {
   "cell_type": "code",
   "execution_count": null,
   "id": "dfca9607-50fb-4be4-8928-e635f0d819ba",
   "metadata": {},
   "outputs": [],
   "source": [
    "print(1)"
   ]
  },
  {
   "cell_type": "code",
   "execution_count": null,
   "id": "f747fcc4-7485-4dfa-9493-92f7dd98694f",
   "metadata": {},
   "outputs": [],
   "source": [
    "print(1 + 2)"
   ]
  },
  {
   "cell_type": "code",
   "execution_count": null,
   "id": "b76f3b44-c8ab-4998-9669-43b0b64ca6d1",
   "metadata": {},
   "outputs": [],
   "source": [
    "type(print)"
   ]
  },
  {
   "cell_type": "markdown",
   "id": "52acbb26-dc7f-4748-9520-a9be677997e9",
   "metadata": {},
   "source": [
    "Functions take arguments, i.e. input, and they need to be written in Python with brackets in order to act. Otherwise they just, well, they just are there.\n",
    "\n",
    "What's happening in the next few cells?\n"
   ]
  },
  {
   "cell_type": "code",
   "execution_count": null,
   "id": "cb05d9b8-8ae8-4930-9b5d-9c51b938b69d",
   "metadata": {},
   "outputs": [],
   "source": [
    "print"
   ]
  },
  {
   "cell_type": "code",
   "execution_count": null,
   "id": "03aaa35b-f04d-4f76-9635-32183fcf1622",
   "metadata": {},
   "outputs": [],
   "source": [
    "print()"
   ]
  },
  {
   "cell_type": "code",
   "execution_count": null,
   "id": "a3c7aa99-19c2-4374-bbe6-bfc7330ba96e",
   "metadata": {},
   "outputs": [],
   "source": [
    "print(print)"
   ]
  },
  {
   "cell_type": "markdown",
   "id": "e80f23ac-dc2d-4d35-b7cc-4adb7bd132fb",
   "metadata": {},
   "source": [
    "You can ask for help about functions using a `?` in Python"
   ]
  },
  {
   "cell_type": "code",
   "execution_count": null,
   "id": "e777af5f-ec4f-43b4-af40-dd5245ab9ec7",
   "metadata": {},
   "outputs": [],
   "source": [
    "print?"
   ]
  },
  {
   "cell_type": "markdown",
   "id": "8cf961c6-e867-479b-8516-e2fe2a3d8638",
   "metadata": {},
   "source": [
    "You can look inside existing functions, or write your own functions.\n",
    "\n",
    "One of the workshops in Discovery wrote functions to calculate distances between two strings.\n",
    "\n",
    "The code below defines a function to add one to whatever the input is."
   ]
  },
  {
   "cell_type": "code",
   "execution_count": null,
   "id": "d091eac4-4429-4261-8613-46045e238da0",
   "metadata": {},
   "outputs": [],
   "source": [
    "def addone(x):\n",
    "    return x + 1"
   ]
  },
  {
   "cell_type": "code",
   "execution_count": null,
   "id": "f36f8c05-1db4-4d73-b05b-cdc6638aab02",
   "metadata": {},
   "outputs": [],
   "source": [
    "addone(100)"
   ]
  },
  {
   "cell_type": "code",
   "execution_count": null,
   "id": "d1462684-ed78-45c4-a020-b2db1e7d4dda",
   "metadata": {},
   "outputs": [],
   "source": []
  },
  {
   "cell_type": "markdown",
   "id": "605a76f8-2742-40a6-b0c2-78e20a0e44a9",
   "metadata": {},
   "source": [
    "You can play around with writing your own functions, if you want.\n",
    "\n",
    "A big learning point here is that complex Python objects are build out of simpler Python objects. "
   ]
  },
  {
   "cell_type": "code",
   "execution_count": null,
   "id": "45d8e74c-ab49-4726-8fb6-8379fe8c2e85",
   "metadata": {},
   "outputs": [],
   "source": []
  },
  {
   "cell_type": "code",
   "execution_count": null,
   "id": "72664dcb-4ea9-43aa-9203-5c1c34a6aa05",
   "metadata": {},
   "outputs": [],
   "source": []
  },
  {
   "cell_type": "markdown",
   "id": "d357c2b8-2a29-49b2-8448-5e9730fdde63",
   "metadata": {},
   "source": [
    "## Lists\n",
    "\n",
    "Often, we need to keep track of many different pieces of data together.\n",
    "\n",
    "Python lists are the easiest way of doing this. They're created and displayed using square brackets."
   ]
  },
  {
   "cell_type": "code",
   "execution_count": null,
   "id": "73ff053b-de8e-444b-9fbd-e49135a664c9",
   "metadata": {},
   "outputs": [],
   "source": [
    "[1, 2, 3]"
   ]
  },
  {
   "cell_type": "code",
   "execution_count": null,
   "id": "568f8d4f-9c9b-4563-be08-64357fd5dc61",
   "metadata": {},
   "outputs": [],
   "source": [
    "type([1, 2, 3])"
   ]
  },
  {
   "cell_type": "markdown",
   "id": "1c98b9e1-bd08-4f50-9b45-8f915289d87d",
   "metadata": {},
   "source": [
    "Adding two lists creates a longer list (or, \"append\" the second list)."
   ]
  },
  {
   "cell_type": "code",
   "execution_count": null,
   "id": "b58b99c4-5630-473d-95aa-45c4e5ec72d6",
   "metadata": {},
   "outputs": [],
   "source": [
    "[1, 2, 3] + [4]"
   ]
  },
  {
   "cell_type": "markdown",
   "id": "acaea2c5-0a91-46d6-9891-02e37f9645ea",
   "metadata": {},
   "source": [
    "The importance of square brackets for defining lists means that having brackets in the wrong place can get confusing. Like quotes.\n",
    "\n",
    "What's happening in the next examples?"
   ]
  },
  {
   "cell_type": "code",
   "execution_count": null,
   "id": "235a1282-9a10-4db3-b9b3-515c52746cd1",
   "metadata": {},
   "outputs": [],
   "source": [
    "[1] + [1]"
   ]
  },
  {
   "cell_type": "code",
   "execution_count": null,
   "id": "e99e4487-9bb9-4053-b07d-4924ea02de62",
   "metadata": {},
   "outputs": [],
   "source": [
    "[1] + ['1']"
   ]
  },
  {
   "cell_type": "code",
   "execution_count": null,
   "id": "d1d053b7-c80f-43d0-95e2-b60d991e93c3",
   "metadata": {},
   "outputs": [],
   "source": [
    "[1 + 1]"
   ]
  },
  {
   "cell_type": "code",
   "execution_count": null,
   "id": "272b5f93-d064-4d7b-a1fd-40831579d0fb",
   "metadata": {},
   "outputs": [],
   "source": [
    "[1] + 1"
   ]
  },
  {
   "cell_type": "markdown",
   "id": "7016fdff-cd80-4167-b221-0584b3764637",
   "metadata": {},
   "source": [
    "Yes... when learning to code, it helps to be precise and even pedantic."
   ]
  },
  {
   "cell_type": "markdown",
   "id": "6c4b8334-0aa0-4f19-9127-c192c392c63b",
   "metadata": {},
   "source": [
    "Lists can contain different kinds of objects."
   ]
  },
  {
   "cell_type": "code",
   "execution_count": null,
   "id": "7ec135e8-a499-403d-9ed9-3701fb04c46c",
   "metadata": {},
   "outputs": [],
   "source": [
    "[1, 2, \"many\"]"
   ]
  },
  {
   "cell_type": "markdown",
   "id": "4b7e5d2c-f799-4757-aa95-b4b0ecf81e84",
   "metadata": {},
   "source": [
    "That inconsistency can cause problems, so in this course we'll try to work with lists that contain only one kind of thing, like the columns of a data frame."
   ]
  },
  {
   "cell_type": "markdown",
   "id": "8be12f79",
   "metadata": {},
   "source": [
    "## Wait, what is a data frame really?\n",
    "\n",
    "We now want to understand what kind of data type a data frame is. We'll re-use some of the material from Class 1 notebook."
   ]
  },
  {
   "cell_type": "markdown",
   "id": "dafcaf9d-0898-4d19-ba5e-3c6aaa8cce55",
   "metadata": {},
   "source": [
    "Next make a dataframe"
   ]
  },
  {
   "cell_type": "code",
   "execution_count": null,
   "id": "b9714332-ad0b-430d-8ce0-c4c43c4670a4",
   "metadata": {},
   "outputs": [],
   "source": [
    "# example data frame with just numbers\n",
    "df_simple = pd.DataFrame(\n",
    "    {\"a\" : [4, 5, 6],\n",
    "     \"b\" : [7, 8, 9] })\n",
    "\n",
    "df_simple"
   ]
  },
  {
   "cell_type": "markdown",
   "id": "442b8ae5-66d4-4ff8-b021-2c5e43634807",
   "metadata": {},
   "source": [
    "What kinds of objects are these?"
   ]
  },
  {
   "cell_type": "code",
   "execution_count": null,
   "id": "eff2b50f",
   "metadata": {},
   "outputs": [],
   "source": [
    "type(pd.DataFrame)"
   ]
  },
  {
   "cell_type": "code",
   "execution_count": null,
   "id": "0780ce51-7639-4dae-823a-4237001532b0",
   "metadata": {},
   "outputs": [],
   "source": [
    "type(df_simple)"
   ]
  },
  {
   "cell_type": "markdown",
   "id": "8a8da018-dd3d-465d-b7b5-51216339778a",
   "metadata": {},
   "source": [
    "This means that the \"type\" DataFrame is defined by the pandas module"
   ]
  },
  {
   "cell_type": "markdown",
   "id": "fe9dc828-88d1-4ffd-a627-cfb6711adb72",
   "metadata": {},
   "source": [
    "Remember, you can ask for help on functions straight from your Python session."
   ]
  },
  {
   "cell_type": "code",
   "execution_count": null,
   "id": "86bc6217-2aa0-41b9-a47e-ac7359b14667",
   "metadata": {},
   "outputs": [],
   "source": [
    "pd.DataFrame?"
   ]
  },
  {
   "cell_type": "markdown",
   "id": "11127559-1c9f-4bf7-87d1-b85653b255af",
   "metadata": {},
   "source": [
    "These help files are usually findable on nicely formatted websites too. See https://pandas.pydata.org/docs/reference/api/pandas.DataFrame.html"
   ]
  },
  {
   "cell_type": "code",
   "execution_count": null,
   "id": "7bbf57ed-606e-4ab2-895a-7ea9dd649ed1",
   "metadata": {},
   "outputs": [],
   "source": [
    "# example data frame with numbers and names - taken from https://en.wikipedia.org/wiki/List_of_universities_in_Scotland\n",
    "df_scottishuniversities = pd.DataFrame(\n",
    "    {\"University\" : [\"St Andrews\", \"Glasgow\", \"Aberdeen\", \"Edinburgh\"],\n",
    "     \"Founding_year\" : [1413, 1451, 1495, 1582],\n",
    "     \"Total_students_2023\" : [11895, 38125, 15455, 40625 ]\n",
    "    })\n",
    "\n",
    "df_scottishuniversities"
   ]
  },
  {
   "cell_type": "code",
   "execution_count": null,
   "id": "aed4437e-c58d-4a61-9f52-a2d05b8ad931",
   "metadata": {},
   "outputs": [],
   "source": [
    "type(df_scottishuniversities)"
   ]
  },
  {
   "cell_type": "code",
   "execution_count": null,
   "id": "1c47bcc8-7579-4d66-85e5-0d8df99532b3",
   "metadata": {},
   "outputs": [],
   "source": [
    "df_penguins = pd.read_csv('../Datasets/penguins.csv')\n",
    "\n",
    "df_penguins"
   ]
  },
  {
   "cell_type": "markdown",
   "id": "0e9fe363",
   "metadata": {},
   "source": [
    "Complex Python objects are made out of simpler Python objects. Clearly, this data frame contains both numbers and strings. It's arranged into columns and rows.\n",
    "\n",
    "Conceptually, a dataframe is built out of columns.\n",
    "\n",
    "Python calls a single column of a data frame a **Series**.  A Python Series is a bit like a Python list. However, a Series contains only one kind of data type, and has an order, index and, like dataframes, there are functions to describe and summarise them. A series can be called in different ways. Here are some examples of how we can quantify just the bill length measurements in the penguins dataset.\n",
    "\n",
    "In the first example, we assign to a variable."
   ]
  },
  {
   "cell_type": "code",
   "execution_count": null,
   "id": "4f02d9f7",
   "metadata": {},
   "outputs": [],
   "source": [
    "df_penguins_col = df_penguins['bill_length_mm']"
   ]
  },
  {
   "cell_type": "code",
   "execution_count": null,
   "id": "bc549a8c",
   "metadata": {},
   "outputs": [],
   "source": [
    "max(df_penguins_col)"
   ]
  },
  {
   "cell_type": "markdown",
   "id": "097d38a8-2967-4a59-9def-1786c0d92b7f",
   "metadata": {},
   "source": [
    "Some Python types, like the data frame, come with \"built-in functions\" (also called bound methods) that are accessed by using a dot at the end."
   ]
  },
  {
   "cell_type": "code",
   "execution_count": null,
   "id": "de769a93",
   "metadata": {},
   "outputs": [],
   "source": [
    "df_penguins_col.max()"
   ]
  },
  {
   "cell_type": "code",
   "execution_count": null,
   "id": "346640e0-d08c-422b-ba73-0c6126c62a12",
   "metadata": {},
   "outputs": [],
   "source": [
    "df_penguins_col.max?"
   ]
  },
  {
   "cell_type": "code",
   "execution_count": null,
   "id": "689f3c43-3ea7-409a-9002-f96c2e153065",
   "metadata": {},
   "outputs": [],
   "source": []
  },
  {
   "cell_type": "markdown",
   "id": "3a749a35",
   "metadata": {},
   "source": [
    "In these next examples, we avoid assigning the column to a variable and call it directly instead."
   ]
  },
  {
   "cell_type": "code",
   "execution_count": null,
   "id": "0b33d9de",
   "metadata": {},
   "outputs": [],
   "source": [
    "max(df_penguins['bill_length_mm'])"
   ]
  },
  {
   "cell_type": "code",
   "execution_count": null,
   "id": "a8195a61",
   "metadata": {},
   "outputs": [],
   "source": [
    "max(df_penguins.bill_length_mm) # note: this only works if the column name has no spaces or odd characters."
   ]
  },
  {
   "cell_type": "code",
   "execution_count": null,
   "id": "45fbca5b",
   "metadata": {},
   "outputs": [],
   "source": [
    "df_penguins['bill_length_mm'].max()"
   ]
  },
  {
   "cell_type": "markdown",
   "id": "eb775538",
   "metadata": {},
   "source": [
    "There are lots of functions you can use to summarise a series:  \n",
    "    \n",
    "-  `P.min()`\n",
    "-  `P.mean()`\n",
    "-  `P.median()`\n",
    "-  `P.std()`\n",
    "-  `P.skew()`\n",
    "-  `P.quantile(0.5)`\n",
    "-  `P.nlargest(3)`\n",
    "-  `P.sample(2)`\n",
    "-  `P.argmin()`\n",
    "-  `P.argmax()`\n",
    "-  `P.count()`\n",
    "-  `P.value_counts()`"
   ]
  },
  {
   "cell_type": "markdown",
   "id": "28888710",
   "metadata": {},
   "source": [
    "Have a go running some of these commands in the cells below. Can you work out what they are doing?"
   ]
  },
  {
   "cell_type": "code",
   "execution_count": null,
   "id": "0f1a4866",
   "metadata": {},
   "outputs": [],
   "source": []
  },
  {
   "cell_type": "code",
   "execution_count": null,
   "id": "fb4a0c5d-b733-4897-bc06-b2aa1358709d",
   "metadata": {},
   "outputs": [],
   "source": []
  },
  {
   "cell_type": "code",
   "execution_count": null,
   "id": "37d1d6da-89a9-46ae-b6ea-81863aa71766",
   "metadata": {},
   "outputs": [],
   "source": []
  },
  {
   "cell_type": "markdown",
   "id": "b1b07eab",
   "metadata": {},
   "source": [
    "## Wait, what's going on?\n",
    "\n",
    "The goal of this homework was to revise some Python basics, in a way that you can learn many key features and how to troubleshoot errors.\n",
    "\n",
    "Thinking about about why these lines of code work the way they do will help you code in the rest of the course.\n",
    "\n",
    "Yes, it requires precision and pedantry. It's like learning a language - it takes time and practice. By starting to understand what each component of a line of code does, you can learn to make the code work for you.\n",
    "\n",
    "### The worst part - there's lots of ways of doing the same thing\n",
    "\n",
    "Yes. This is the worst part. This is a frequent complaint about Python.\n",
    "\n",
    "Learn one thing at a time, and you can learn to make Python work for you. Millions of people use Python and other coding languages every day - it gets easier as you learn to recognise patterns."
   ]
  }
 ],
 "metadata": {
  "kernelspec": {
   "display_name": "Python 3 (ipykernel)",
   "language": "python",
   "name": "python3"
  },
  "language_info": {
   "codemirror_mode": {
    "name": "ipython",
    "version": 3
   },
   "file_extension": ".py",
   "mimetype": "text/x-python",
   "name": "python",
   "nbconvert_exporter": "python",
   "pygments_lexer": "ipython3",
   "version": "3.12.11"
  }
 },
 "nbformat": 4,
 "nbformat_minor": 5
}
