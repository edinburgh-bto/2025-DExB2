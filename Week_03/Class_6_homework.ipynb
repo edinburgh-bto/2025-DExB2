{
 "cells": [
  {
   "cell_type": "markdown",
   "id": "e22d9329-c9be-47f0-b281-7ba87a7b3b7e",
   "metadata": {},
   "source": [
    "# Class 6 homework - More on different plots for different data\n",
    "\n",
    "This homework continues the ideas that:\n",
    "\n",
    "1. We can generate statistically random data from known distributions.\n",
    "2. Different kinds of plots work best for different kinds of data.\n",
    "\n",
    "We will generate data from different distributions, including with different structure and correlations. We will make informative plots of them.\n",
    "\n"
   ]
  },
  {
   "cell_type": "markdown",
   "id": "74788175-485f-4034-bcae-b6912db02a62",
   "metadata": {},
   "source": [
    "## Load modules\n",
    "\n",
    "The random number generators that we will use are in the numpy (numerical Python) module, so we need to load that along with pandas and seaborn.\n",
    "\n",
    "Enter the import statements that you need below. These should be familiar by now, class 6."
   ]
  },
  {
   "cell_type": "code",
   "execution_count": null,
   "id": "5e330a9a-5307-4337-8e97-3d7c70c7f82e",
   "metadata": {},
   "outputs": [],
   "source": []
  },
  {
   "cell_type": "markdown",
   "id": "6e9043a1-c8d0-4bbd-aed8-e3da716075fa",
   "metadata": {},
   "source": [
    "## Different distributions of pseudorandom numbers\n",
    "\n",
    "The numpy pseudo random number generator supplies different methods to generate different distributions, including:\n",
    "\n",
    "- uniformly distributed between 0 and 1, `random`, that we used in class 6.\n",
    "- normal distribution, `normal`, that is ...\n",
    "- exponential distribution, `exponential`, that is ...\n",
    "- Poisson distribution, `poisson`, that is ...\n",
    "- and many more\n",
    "\n",
    "These are used in a similar way to `.random`"
   ]
  },
  {
   "cell_type": "code",
   "execution_count": null,
   "id": "f81c7a44-3f3e-4432-85dc-a382aa3bdf6b",
   "metadata": {},
   "outputs": [],
   "source": [
    "# set up a random number generator\n",
    "rng_seed1 = np.random.default_rng(seed=1)\n",
    "# use it to generate a random number\n",
    "rng_seed1.random()"
   ]
  },
  {
   "cell_type": "code",
   "execution_count": null,
   "id": "390c2100-e72b-400e-aa10-fc0947c2cb99",
   "metadata": {},
   "outputs": [],
   "source": [
    "rng_seed1.normal()"
   ]
  },
  {
   "cell_type": "code",
   "execution_count": null,
   "id": "8255ce50-e1a5-4a32-a8c5-cc1268670c9c",
   "metadata": {},
   "outputs": [],
   "source": [
    "rng_seed1.exponential()"
   ]
  },
  {
   "cell_type": "code",
   "execution_count": null,
   "id": "ca801f9f-5f5a-4ffd-b519-937791ed0aac",
   "metadata": {},
   "outputs": [],
   "source": [
    "rng_seed1.poisson()"
   ]
  },
  {
   "cell_type": "code",
   "execution_count": null,
   "id": "4c4e6ff5-c147-4024-bf7f-d56afb5f79cf",
   "metadata": {},
   "outputs": [],
   "source": []
  },
  {
   "cell_type": "code",
   "execution_count": null,
   "id": "99f8e3c6-6f98-4c7b-b65f-798d86f8ec18",
   "metadata": {},
   "outputs": [],
   "source": []
  },
  {
   "cell_type": "markdown",
   "id": "e4abd805-4463-4ae7-b30d-35bcf807eb06",
   "metadata": {},
   "source": [
    "Generating random numbers, then plotting them, helps to understand the differences between these distributions.\n",
    "\n",
    "We will quickly generate some random numbers from these distributions, in data frames of either 10 or 1000 points, and plot them."
   ]
  },
  {
   "cell_type": "code",
   "execution_count": null,
   "id": "a5ed22e4-b3d3-4363-bad3-be799f49a454",
   "metadata": {},
   "outputs": [],
   "source": [
    "# set up a random number generator\n",
    "rng_seed2025 = np.random.default_rng(seed=2025)\n",
    "\n",
    "# generate a data frame with 10 random numbers of each\n",
    "df_random10 = pd.DataFrame(\n",
    "    {\"unif\" : rng_seed2025.random(size = 10), \n",
    "     \"norm\" : rng_seed2025.normal(size = 10),\n",
    "     \"expo\" : rng_seed2025.exponential(size = 10),\n",
    "     \"pois\" : rng_seed2025.poisson(size = 10)\n",
    "    })\n",
    "\n",
    "# generate a data frame with 1000 random numbers of each\n",
    "df_random1000 = pd.DataFrame(\n",
    "    {\"unif\" : rng_seed2025.random(size = 1000), \n",
    "     \"norm\" : rng_seed2025.normal(size = 1000),\n",
    "     \"expo\" : rng_seed2025.exponential(size = 1000),\n",
    "     \"pois\" : rng_seed2025.poisson(size = 1000)\n",
    "    })"
   ]
  },
  {
   "cell_type": "markdown",
   "id": "6c8fc29f-1e03-49e8-a762-93a00ad27cce",
   "metadata": {},
   "source": [
    "First, work on describing these data frames.\n",
    "\n",
    "What are the means? What do you expect to see in plots?"
   ]
  },
  {
   "cell_type": "code",
   "execution_count": null,
   "id": "388ea90b-1cdf-4538-b122-053f8d9e13d7",
   "metadata": {},
   "outputs": [],
   "source": []
  },
  {
   "cell_type": "code",
   "execution_count": null,
   "id": "6501d7c3-119e-42b3-9f76-23e2d005c244",
   "metadata": {},
   "outputs": [],
   "source": []
  },
  {
   "cell_type": "markdown",
   "id": "0578db09-e0af-45ef-9c52-6eabb79f33be",
   "metadata": {},
   "source": [
    "*Reminder: The statistics from small samples may not be the same as from the larger samples... averages are only on average.*"
   ]
  },
  {
   "cell_type": "markdown",
   "id": "56d6d923-108f-41c0-aeef-0d8ba654be08",
   "metadata": {},
   "source": [
    "Try now plotting some of these using the 1-d distribution plots from Class 6:\n",
    "\n",
    "- histplot\n",
    "- kdeplot\n",
    "- ecdfplot"
   ]
  },
  {
   "cell_type": "code",
   "execution_count": null,
   "id": "4c815964-7c06-4e38-a3b7-3934269252bb",
   "metadata": {},
   "outputs": [],
   "source": []
  },
  {
   "cell_type": "code",
   "execution_count": null,
   "id": "237c06d8-5646-4471-a830-32b6e1bc0a17",
   "metadata": {},
   "outputs": [],
   "source": []
  },
  {
   "cell_type": "code",
   "execution_count": null,
   "id": "902bdee2-114c-4b03-8525-dc7d80116821",
   "metadata": {},
   "outputs": [],
   "source": []
  },
  {
   "cell_type": "code",
   "execution_count": null,
   "id": "5b310e2a-2981-4109-9a51-1830f9837b4e",
   "metadata": {},
   "outputs": [],
   "source": []
  },
  {
   "cell_type": "markdown",
   "id": "1c95e2fa-67e1-4dad-91cd-5bbf56fc674e",
   "metadata": {},
   "source": [
    "## The pairplot as a way to make rapid comparisons\n",
    "\n",
    "The pairplot of a data frame allows quick inspection of distributions and correlations. By plotting these next to each other, pairplots can make differences and similarities clearer.\n",
    "\n",
    "By default, the pairplot has the 1-d distribution (e.g. histogram) on the diagonal, and scatterplots off the diagonal.\n",
    "\n",
    "Try making pairplots of the small dataset and the large dataset."
   ]
  },
  {
   "cell_type": "code",
   "execution_count": null,
   "id": "bbdb6e2f-7e93-4198-bcad-2bb9c1b50311",
   "metadata": {},
   "outputs": [],
   "source": []
  },
  {
   "cell_type": "code",
   "execution_count": null,
   "id": "a26c6dd7-b04f-42fd-9d9c-aa64de3c2e9a",
   "metadata": {},
   "outputs": [],
   "source": []
  },
  {
   "cell_type": "markdown",
   "id": "0aaee7aa-47ec-4dee-9c20-db89e757183f",
   "metadata": {},
   "source": [
    "The structure of the distributions is hard to see from a sample of 10 points, but much easier with a sample of 1000."
   ]
  },
  {
   "cell_type": "markdown",
   "id": "3537b484-25c3-4558-8954-5d8772b2076b",
   "metadata": {},
   "source": [
    "Now try adjusting the plots in a way that's most informative.\n",
    "First, read the [seaborn help page for pairplot](https://seaborn.pydata.org/generated/seaborn.pairplot.html). \n",
    "Then, start experimenting.\n",
    "\n",
    "You could try `kind = \"kde\"`, to start.\n",
    "\n",
    "See what happens if you adjust the `Corner` argument, and decide whether that makes the plot more or less clear."
   ]
  },
  {
   "cell_type": "code",
   "execution_count": null,
   "id": "3c405dab-6cc5-4d64-81a7-032945397985",
   "metadata": {},
   "outputs": [],
   "source": []
  },
  {
   "cell_type": "code",
   "execution_count": null,
   "id": "86844502-25b9-489c-8ac3-487fd9d9e420",
   "metadata": {},
   "outputs": [],
   "source": []
  },
  {
   "cell_type": "markdown",
   "id": "a8c00810-a785-4b9b-938b-a9a2cfcc4b53",
   "metadata": {},
   "source": [
    "Which plots are most informative? How does that depend on the size and shape of the data?"
   ]
  },
  {
   "cell_type": "markdown",
   "id": "5559560f-c60d-4c68-84e4-5b61144b64d0",
   "metadata": {},
   "source": [
    "## Generating correlated data\n",
    "\n",
    "Next, we will generate some data with known correlations and see how that leads to patterns in plotting.\n",
    "\n",
    "We will do this by first generating some deterministic and some random numbers, then creating new columns based on combining them."
   ]
  },
  {
   "cell_type": "code",
   "execution_count": null,
   "id": "c8eead38-4bd5-4f7b-91bc-841fe958dff3",
   "metadata": {},
   "outputs": [],
   "source": [
    "# reseed random number generator with a different seed\n",
    "rng_seed329 = np.random.default_rng(seed=329)\n",
    "\n",
    "# generate a data frame with 10 random numbers of each\n",
    "df_correlated100 = pd.DataFrame(\n",
    "    {\"a\" : rng_seed329.random(size = 100),\n",
    "     \"b\" : rng_seed329.normal(size = 100),\n",
    "     \"c\" : rng_seed329.normal(size = 100)\n",
    "    })\n",
    "\n",
    "df_correlated100[\"a_plus_b\"] = df_correlated100[\"a\"] + df_correlated100[\"b\"] \n",
    "df_correlated100[\"a5x_plus_c\"] = 5 * df_correlated100[\"a\"] + df_correlated100[\"c\"] \n",
    "df_correlated100[\"b_minus_c\"] = df_correlated100[\"b\"] - df_correlated100[\"c\"] \n",
    "\n"
   ]
  },
  {
   "cell_type": "markdown",
   "id": "82208248-501d-4eb3-921d-139ad1805407",
   "metadata": {},
   "source": [
    "Before you go any further, try to understand this code. What did we do? What tools from the course did we use? How many columns will the resulting data frame have?"
   ]
  },
  {
   "cell_type": "code",
   "execution_count": null,
   "id": "35557b16-c413-4764-8475-0d726d667055",
   "metadata": {},
   "outputs": [],
   "source": [
    "# Space to trial some of these"
   ]
  },
  {
   "cell_type": "code",
   "execution_count": null,
   "id": "1925db06-701b-417b-910a-ad43cd11cd99",
   "metadata": {},
   "outputs": [],
   "source": []
  },
  {
   "cell_type": "markdown",
   "id": "01893107-1626-470d-8ec7-dc672a546f8c",
   "metadata": {},
   "source": [
    "Make sure you check the data frame too, using describe."
   ]
  },
  {
   "cell_type": "code",
   "execution_count": null,
   "id": "9b11b0cb-78e0-455d-89f0-6db95db2d835",
   "metadata": {},
   "outputs": [],
   "source": []
  },
  {
   "cell_type": "markdown",
   "id": "e9295ebb-ff0c-4338-bedd-29ef78d63b06",
   "metadata": {},
   "source": [
    "Now, make a pairplot. Be sure to relate the curves that you see on the plot with the numbers in `.describe()`."
   ]
  },
  {
   "cell_type": "code",
   "execution_count": null,
   "id": "5d27bf06-640d-4555-b428-a395c462d37e",
   "metadata": {},
   "outputs": [],
   "source": []
  },
  {
   "cell_type": "markdown",
   "id": "173c26ba-93d1-4c8a-9636-3818bd0c96d9",
   "metadata": {},
   "source": [
    "How can you interpret this?\n",
    "\n",
    "Try redoing the pairplot with `corner = True` and drawing regression lines with `kind = \"reg\"`."
   ]
  },
  {
   "cell_type": "code",
   "execution_count": null,
   "id": "7b68e92c-349c-4955-b26f-ed7e16da49b1",
   "metadata": {},
   "outputs": [],
   "source": []
  },
  {
   "cell_type": "code",
   "execution_count": null,
   "id": "2f949303-66fe-4981-a5ce-17faa3c60c40",
   "metadata": {},
   "outputs": [],
   "source": []
  },
  {
   "cell_type": "code",
   "execution_count": null,
   "id": "5465f7cf-90b1-4f94-b940-fc4839ebf848",
   "metadata": {},
   "outputs": [],
   "source": []
  },
  {
   "cell_type": "markdown",
   "id": "fafa8690-8989-4d34-961a-9e8dd0873a9a",
   "metadata": {},
   "source": [
    "To interpret this plot, consider one panel at a time.\n",
    "\n",
    "The panels on the diagonal are 1-d distributions, here histograms, of each variable individually.\n",
    "\n",
    "- a is uniformly distributed\n",
    "- b and c are normally distributed\n",
    "- distributions of other variables reflect how they were created as sums of columns\n",
    "\n",
    "Off the diagonal, the variables are scatter plots with linear regression.\n",
    "\n",
    "- a vs b is not correlated, because they're independent\n",
    "- a_plus_b is weakly positively correlated to a, because it was created from adding a to b\n",
    "- a_plus_b is strongly correlated with b,\n",
    "- **Keep going for all the panels**\n",
    "\n"
   ]
  },
  {
   "cell_type": "markdown",
   "id": "b30bbad0-c5c9-4bf8-b25b-714af5d213e1",
   "metadata": {},
   "source": [
    "It can be overwhelming to focus on only one plot from a big set like this. It makes sense to pick the most interesting from the pair plot and plot them again.\n",
    "\n",
    "Try that with a lmplot of just a5x_plus_c against a.\n",
    "\n",
    "*Tip: this plot shows the kind of data that linear regression is most suitable for - here a5x_plus_c is a variable that strongly depends on a, but has added variability with a normal distribution.*\n",
    "\n"
   ]
  },
  {
   "cell_type": "code",
   "execution_count": null,
   "id": "281ec84e-9e53-45a1-bc49-48b456d1d4e8",
   "metadata": {},
   "outputs": [],
   "source": []
  },
  {
   "cell_type": "markdown",
   "id": "5779d572-106f-47a4-ba03-b1cb2c22b167",
   "metadata": {},
   "source": [
    "Plot some other single panels, and try different visualisations, to understand the relationships better.\n",
    "\n",
    "Maybe try a joint plot?"
   ]
  },
  {
   "cell_type": "code",
   "execution_count": null,
   "id": "05078a1c-7f73-4e52-b181-0f307f759c28",
   "metadata": {},
   "outputs": [],
   "source": []
  },
  {
   "cell_type": "code",
   "execution_count": null,
   "id": "8bee03e2-4667-42f6-8d56-4e6406aa40bf",
   "metadata": {},
   "outputs": [],
   "source": []
  },
  {
   "cell_type": "code",
   "execution_count": null,
   "id": "3eedbee4-53c3-47e4-a321-8d9079f59e77",
   "metadata": {},
   "outputs": [],
   "source": []
  },
  {
   "cell_type": "markdown",
   "id": "4969b1a5-2438-4e72-ad75-5f0e503efd17",
   "metadata": {},
   "source": [
    "Try a 2d distribution plot as a kernel density estimate (`kde`). This shows how 2-d kernel density estimates highlight correlations between variables.\n"
   ]
  },
  {
   "cell_type": "code",
   "execution_count": null,
   "id": "718bceff-b05c-4633-941d-91d6673723f4",
   "metadata": {},
   "outputs": [],
   "source": []
  },
  {
   "cell_type": "markdown",
   "id": "4e7d50f5-1270-4d41-af9a-e319ce0fc19d",
   "metadata": {},
   "source": [
    "Lastly, try the pairplot as kernel density estimate (`kind = \"kde\"`).\n",
    "\n",
    "Again, systematically think through the panels to understand what the plot might be showing you about the data distribution."
   ]
  },
  {
   "cell_type": "code",
   "execution_count": null,
   "id": "81260c00-b1db-403f-90c8-b120827804ac",
   "metadata": {},
   "outputs": [],
   "source": []
  },
  {
   "cell_type": "code",
   "execution_count": null,
   "id": "7719f020-0451-4ea9-ae0c-c26bdf2e540c",
   "metadata": {},
   "outputs": [],
   "source": []
  },
  {
   "cell_type": "markdown",
   "id": "fbb2998a-ec53-4c00-9509-bfcfacf98688",
   "metadata": {},
   "source": [
    "## Conclusion\n",
    "\n",
    "Dealing with real data, as in the group project, this kind of systematic data exploration is an essential activity. The plots are tools to understand the data, and different kinds of plots are better for different kinds of data.\n",
    "\n",
    "In this homework, we used randomly generated numbers with known properties to show how different plotting strategies can help us see those properties."
   ]
  },
  {
   "cell_type": "markdown",
   "id": "ea0cede8-a732-4841-bea5-e46e71fc4ca7",
   "metadata": {},
   "source": [
    "### Note: Why we used the numpy random number generator\n",
    "\n",
    "Python usually has multiple ways to do the same thing, which can be confusing. There are different ways to generate random numbers in Python, including the `random` module. \n",
    "\n",
    "The numpy random number generators used here have a consistent way of generating an array of random numbers at the same time, which is helpful. The numpy random number generator documentation is quite technical and mathematical, beware. Alternative distributions are listed at [numpy Random Generator distributions list](https://numpy.org/doc/2.1/reference/random/generator.html#distributions).\n",
    "\n",
    "Generating random numbers will not be on the class test. (It will be in the next class quiz.)\n",
    "\n",
    "Plotting data and interpreting plots will be on the class test."
   ]
  },
  {
   "cell_type": "markdown",
   "id": "a4dc4c21",
   "metadata": {},
   "source": [
    "# Class 6 homework - More on different plots for different data\n",
    "\n",
    "This homework continues the ideas that:\n",
    "\n",
    "1. We can generate statistically random data from known distributions.\n",
    "2. Different kinds of plots work best for different kinds of data.\n",
    "\n",
    "We will generate data from different distributions, including with different structure and correlations. We will make informative plots of them.\n",
    "\n"
   ]
  },
  {
   "cell_type": "markdown",
   "id": "a888abe2",
   "metadata": {},
   "source": [
    "## Load modules\n",
    "\n",
    "The random number generators that we will use are in the numpy (numerical Python) module, so we need to load that along with pandas and seaborn.\n",
    "\n",
    "Enter the import statements that you need below. These should be familiar by now, class 6."
   ]
  },
  {
   "cell_type": "code",
   "execution_count": null,
   "id": "2f9889fb",
   "metadata": {},
   "outputs": [],
   "source": []
  },
  {
   "cell_type": "markdown",
   "id": "cbf3be09",
   "metadata": {},
   "source": [
    "## Different distributions of pseudorandom numbers\n",
    "\n",
    "The numpy pseudo random number generator supplies different methods to generate different distributions, including:\n",
    "\n",
    "- uniformly distributed between 0 and 1, `random`, that we used in class 6.\n",
    "- normal distribution, `normal`, that is ...\n",
    "- exponential distribution, `exponential`, that is ...\n",
    "- Poisson distribution, `poisson`, that is ...\n",
    "- and many more\n",
    "\n",
    "These are used in a similar way to `.random`"
   ]
  },
  {
   "cell_type": "code",
   "execution_count": null,
   "id": "8fa380a6",
   "metadata": {},
   "outputs": [],
   "source": [
    "# set up a random number generator\n",
    "rng_seed1 = np.random.default_rng(seed=1)\n",
    "# use it to generate a random number\n",
    "rng_seed1.random()"
   ]
  },
  {
   "cell_type": "code",
   "execution_count": null,
   "id": "7ea9e4c1",
   "metadata": {},
   "outputs": [],
   "source": [
    "rng_seed1.normal()"
   ]
  },
  {
   "cell_type": "code",
   "execution_count": null,
   "id": "1422b3e5",
   "metadata": {},
   "outputs": [],
   "source": [
    "rng_seed1.exponential()"
   ]
  },
  {
   "cell_type": "code",
   "execution_count": null,
   "id": "7ccb0b99",
   "metadata": {},
   "outputs": [],
   "source": [
    "rng_seed1.poisson()"
   ]
  },
  {
   "cell_type": "code",
   "execution_count": null,
   "id": "ad2f551c",
   "metadata": {},
   "outputs": [],
   "source": []
  },
  {
   "cell_type": "code",
   "execution_count": null,
   "id": "d44caa4e",
   "metadata": {},
   "outputs": [],
   "source": []
  },
  {
   "cell_type": "markdown",
   "id": "36901855",
   "metadata": {},
   "source": [
    "Generating random numbers, then plotting them, helps to understand the differences between these distributions.\n",
    "\n",
    "We will quickly generate some random numbers from these distributions, in data frames of either 10 or 1000 points, and plot them."
   ]
  },
  {
   "cell_type": "code",
   "execution_count": null,
   "id": "6acd7461",
   "metadata": {},
   "outputs": [],
   "source": [
    "# set up a random number generator\n",
    "rng_seed2025 = np.random.default_rng(seed=2025)\n",
    "\n",
    "# generate a data frame with 10 random numbers of each\n",
    "df_random10 = pd.DataFrame(\n",
    "    {\"unif\" : rng_seed2025.random(size = 10), \n",
    "     \"norm\" : rng_seed2025.normal(size = 10),\n",
    "     \"expo\" : rng_seed2025.exponential(size = 10),\n",
    "     \"pois\" : rng_seed2025.poisson(size = 10)\n",
    "    })\n",
    "\n",
    "# generate a data frame with 1000 random numbers of each\n",
    "df_random1000 = pd.DataFrame(\n",
    "    {\"unif\" : rng_seed2025.random(size = 1000), \n",
    "     \"norm\" : rng_seed2025.normal(size = 1000),\n",
    "     \"expo\" : rng_seed2025.exponential(size = 1000),\n",
    "     \"pois\" : rng_seed2025.poisson(size = 1000)\n",
    "    })"
   ]
  },
  {
   "cell_type": "markdown",
   "id": "415cdeb9",
   "metadata": {},
   "source": [
    "First, work on describing these data frames.\n",
    "\n",
    "What are the means? What do you expect to see in plots?"
   ]
  },
  {
   "cell_type": "code",
   "execution_count": null,
   "id": "98cd0e2e",
   "metadata": {},
   "outputs": [],
   "source": []
  },
  {
   "cell_type": "code",
   "execution_count": null,
   "id": "ce92c591",
   "metadata": {},
   "outputs": [],
   "source": []
  },
  {
   "cell_type": "markdown",
   "id": "63923902",
   "metadata": {},
   "source": [
    "*Reminder: The statistics from small samples may not be the same as from the larger samples... averages are only on average.*"
   ]
  },
  {
   "cell_type": "markdown",
   "id": "a13bd823",
   "metadata": {},
   "source": [
    "Try now plotting some of these using the 1-d distribution plots from Class 6:\n",
    "\n",
    "- histplot\n",
    "- kdeplot\n",
    "- ecdfplot"
   ]
  },
  {
   "cell_type": "code",
   "execution_count": null,
   "id": "5c46c528",
   "metadata": {},
   "outputs": [],
   "source": []
  },
  {
   "cell_type": "code",
   "execution_count": null,
   "id": "9e29d1b8",
   "metadata": {},
   "outputs": [],
   "source": []
  },
  {
   "cell_type": "code",
   "execution_count": null,
   "id": "a9a3223c",
   "metadata": {},
   "outputs": [],
   "source": []
  },
  {
   "cell_type": "code",
   "execution_count": null,
   "id": "b9c74d30",
   "metadata": {},
   "outputs": [],
   "source": []
  },
  {
   "cell_type": "markdown",
   "id": "61d0bb82",
   "metadata": {},
   "source": [
    "## The pairplot as a way to make rapid comparisons\n",
    "\n",
    "The pairplot of a data frame allows quick inspection of distributions and correlations. By plotting these next to each other, pairplots can make differences and similarities clearer.\n",
    "\n",
    "By default, the pairplot has the 1-d distribution (e.g. histogram) on the diagonal, and scatterplots off the diagonal.\n",
    "\n",
    "Try making pairplots of the small dataset and the large dataset."
   ]
  },
  {
   "cell_type": "code",
   "execution_count": null,
   "id": "acf43221",
   "metadata": {},
   "outputs": [],
   "source": []
  },
  {
   "cell_type": "code",
   "execution_count": null,
   "id": "4f85ab62",
   "metadata": {},
   "outputs": [],
   "source": []
  },
  {
   "cell_type": "markdown",
   "id": "52c9b674",
   "metadata": {},
   "source": [
    "The structure of the distributions is hard to see from a sample of 10 points, but much easier with a sample of 1000."
   ]
  },
  {
   "cell_type": "markdown",
   "id": "cae291fd",
   "metadata": {},
   "source": [
    "Now try adjusting the plots in a way that's most informative.\n",
    "First, read the [seaborn help page for pairplot](https://seaborn.pydata.org/generated/seaborn.pairplot.html). \n",
    "Then, start experimenting.\n",
    "\n",
    "You could try `kind = \"kde\"`, to start.\n",
    "\n",
    "See what happens if you adjust the `Corner` argument, and decide whether that makes the plot more or less clear."
   ]
  },
  {
   "cell_type": "code",
   "execution_count": null,
   "id": "359ca693",
   "metadata": {},
   "outputs": [],
   "source": []
  },
  {
   "cell_type": "code",
   "execution_count": null,
   "id": "2e1e6e2a",
   "metadata": {},
   "outputs": [],
   "source": []
  },
  {
   "cell_type": "markdown",
   "id": "1abb6fc6",
   "metadata": {},
   "source": [
    "Which plots are most informative? How does that depend on the size and shape of the data?"
   ]
  },
  {
   "cell_type": "markdown",
   "id": "d6415b71",
   "metadata": {},
   "source": [
    "## Generating correlated data\n",
    "\n",
    "Next, we will generate some data with known correlations and see how that leads to patterns in plotting.\n",
    "\n",
    "We will do this by first generating some deterministic and some random numbers, then creating new columns based on combining them."
   ]
  },
  {
   "cell_type": "code",
   "execution_count": null,
   "id": "0b7c26fb",
   "metadata": {},
   "outputs": [],
   "source": [
    "# reseed random number generator with a different seed\n",
    "rng_seed329 = np.random.default_rng(seed=329)\n",
    "\n",
    "# generate a data frame with 10 random numbers of each\n",
    "df_correlated100 = pd.DataFrame(\n",
    "    {\"a\" : rng_seed329.random(size = 100),\n",
    "     \"b\" : rng_seed329.normal(size = 100),\n",
    "     \"c\" : rng_seed329.normal(size = 100)\n",
    "    })\n",
    "\n",
    "df_correlated100[\"a_plus_b\"] = df_correlated100[\"a\"] + df_correlated100[\"b\"] \n",
    "df_correlated100[\"a5x_plus_c\"] = 5 * df_correlated100[\"a\"] + df_correlated100[\"c\"] \n",
    "df_correlated100[\"b_minus_c\"] = df_correlated100[\"b\"] - df_correlated100[\"c\"] \n",
    "\n"
   ]
  },
  {
   "cell_type": "markdown",
   "id": "c12af181",
   "metadata": {},
   "source": [
    "Before you go any further, try to understand this code. What did we do? What tools from the course did we use? How many columns will the resulting data frame have?"
   ]
  },
  {
   "cell_type": "code",
   "execution_count": null,
   "id": "b15d5d86",
   "metadata": {},
   "outputs": [],
   "source": [
    "# Space to trial some of these"
   ]
  },
  {
   "cell_type": "code",
   "execution_count": null,
   "id": "8e71b77e",
   "metadata": {},
   "outputs": [],
   "source": []
  },
  {
   "cell_type": "markdown",
   "id": "3976abb9",
   "metadata": {},
   "source": [
    "Make sure you check the data frame too, using describe."
   ]
  },
  {
   "cell_type": "code",
   "execution_count": null,
   "id": "8a9bede7",
   "metadata": {},
   "outputs": [],
   "source": []
  },
  {
   "cell_type": "markdown",
   "id": "0a822733",
   "metadata": {},
   "source": [
    "Now, make a pairplot. Be sure to relate the curves that you see on the plot with the numbers in `.describe()`."
   ]
  },
  {
   "cell_type": "code",
   "execution_count": null,
   "id": "59a20f97",
   "metadata": {},
   "outputs": [],
   "source": []
  },
  {
   "cell_type": "markdown",
   "id": "6286a780",
   "metadata": {},
   "source": [
    "How can you interpret this?\n",
    "\n",
    "Try redoing the pairplot with `corner = True` and drawing regression lines with `type = \"reg\"`."
   ]
  },
  {
   "cell_type": "code",
   "execution_count": null,
   "id": "776e76ea",
   "metadata": {},
   "outputs": [],
   "source": []
  },
  {
   "cell_type": "code",
   "execution_count": null,
   "id": "1765936b",
   "metadata": {},
   "outputs": [],
   "source": []
  },
  {
   "cell_type": "code",
   "execution_count": null,
   "id": "cc1ba665",
   "metadata": {},
   "outputs": [],
   "source": []
  },
  {
   "cell_type": "markdown",
   "id": "5fdf58db",
   "metadata": {},
   "source": [
    "To interpret this plot, consider one panel at a time.\n",
    "\n",
    "The panels on the diagonal are 1-d distributions, here histograms, of each variable individually.\n",
    "\n",
    "- a is uniformly distributed\n",
    "- b and c are normally distributed\n",
    "- distributions of other variables reflect how they were created as sums of columns\n",
    "\n",
    "Off the diagonal, the variables are scatter plots with linear regression.\n",
    "\n",
    "- a vs b is not correlated, because they're independent\n",
    "- a_plus_b is weakly positively correlated to a, because it was created from adding a to b\n",
    "- a_plus_b is strongly correlated with b,\n",
    "- **Keep going for all the panels**\n",
    "\n"
   ]
  },
  {
   "cell_type": "markdown",
   "id": "7bc8c637",
   "metadata": {},
   "source": [
    "It can be overwhelming to focus on only one plot from a big set like this. It makes sense to pick the most interesting from the pair plot and plot them again.\n",
    "\n",
    "Try that with a lmplot of just a5x_plus_c against a.\n",
    "\n",
    "*Tip: this plot shows the kind of data that linear regression is most suitable for - here a5x_plus_c is a variable that strongly depends on a, but has added variability with a normal distribution.*\n",
    "\n"
   ]
  },
  {
   "cell_type": "code",
   "execution_count": null,
   "id": "89fcf23a",
   "metadata": {},
   "outputs": [],
   "source": []
  },
  {
   "cell_type": "markdown",
   "id": "e4110ab5",
   "metadata": {},
   "source": [
    "Plot some other single panels, and try different visualisations, to understand the relationships better.\n",
    "\n",
    "Maybe try a joint plot?"
   ]
  },
  {
   "cell_type": "code",
   "execution_count": null,
   "id": "5f6131a6",
   "metadata": {},
   "outputs": [],
   "source": []
  },
  {
   "cell_type": "code",
   "execution_count": null,
   "id": "fbf8e790",
   "metadata": {},
   "outputs": [],
   "source": []
  },
  {
   "cell_type": "code",
   "execution_count": null,
   "id": "b262f790",
   "metadata": {},
   "outputs": [],
   "source": []
  },
  {
   "cell_type": "markdown",
   "id": "6e7057a0",
   "metadata": {},
   "source": [
    "Try a 2d distribution plot as a kernel density estimate (`kde`). This shows how 2-d kernel density estimates highlight correlations between variables.\n"
   ]
  },
  {
   "cell_type": "code",
   "execution_count": null,
   "id": "256e68e4",
   "metadata": {},
   "outputs": [],
   "source": []
  },
  {
   "cell_type": "markdown",
   "id": "737a4e2b",
   "metadata": {},
   "source": [
    "Lastly, try the pairplot as kernel density estimate (`kind = \"kde\"`).\n",
    "\n",
    "Again, systematically think through the panels to understand what the plot might be showing you about the data distribution."
   ]
  },
  {
   "cell_type": "code",
   "execution_count": null,
   "id": "34df1ace",
   "metadata": {},
   "outputs": [],
   "source": []
  },
  {
   "cell_type": "code",
   "execution_count": null,
   "id": "c12122ee",
   "metadata": {},
   "outputs": [],
   "source": []
  },
  {
   "cell_type": "markdown",
   "id": "e7024b16",
   "metadata": {},
   "source": [
    "## Conclusion\n",
    "\n",
    "Dealing with real data, as in the group project, this kind of systematic data exploration is an essential activity. The plots are tools to understand the data, and different kinds of plots are better for different kinds of data.\n",
    "\n",
    "In this homework, we used randomly generated numbers with known properties to show how different plotting strategies can help us see those properties."
   ]
  },
  {
   "cell_type": "markdown",
   "id": "fb3cd6ae",
   "metadata": {},
   "source": [
    "### Note: Why we used the numpy random number generator\n",
    "\n",
    "Python usually has multiple ways to do the same thing, which can be confusing. There are different ways to generate random numbers in Python, including the `random` module. \n",
    "\n",
    "The numpy random number generators used here have a consistent way of generating an array of random numbers at the same time, which is helpful. The numpy random number generator documentation is quite technical and mathematical, beware. Alternative distributions are listed at [numpy Random Generator distributions list](https://numpy.org/doc/2.1/reference/random/generator.html#distributions).\n",
    "\n",
    "Generating random numbers will not be on the class test. (It will be in the next class quiz.)\n",
    "\n",
    "Plotting data and interpreting plots will be on the class test."
   ]
  }
 ],
 "metadata": {
  "kernelspec": {
   "display_name": "Python 3 (ipykernel)",
   "language": "python",
   "name": "python3"
  },
  "language_info": {
   "codemirror_mode": {
    "name": "ipython",
    "version": 3
   },
   "file_extension": ".py",
   "mimetype": "text/x-python",
   "name": "python",
   "nbconvert_exporter": "python",
   "pygments_lexer": "ipython3",
   "version": "3.12.11"
  }
 },
 "nbformat": 4,
 "nbformat_minor": 5
}
