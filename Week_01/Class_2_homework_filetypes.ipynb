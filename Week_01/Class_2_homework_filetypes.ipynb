{
 "cells": [
  {
   "cell_type": "markdown",
   "id": "185e351c",
   "metadata": {},
   "source": [
    "# Plain text and binary files\n",
    "\n",
    "What's the difference between .csv, .txt, and .xlsx? Why should we care?\n",
    "\n",
    "What about files that end in .gz or .gzip?\n",
    "\n",
    "A brief introduction, with thanks to Practical Data Science book: https://www.practicaldatascience.org/notebooks/class_3/week_3/03_plaintext_files.html\n",
    "\n",
    "\n",
    "## Things can look different from how they seem\n",
    "\n",
    "1. The SAME data can be stored in DIFFERENT kinds of files\n",
    "2. The SAME file can look DIFFERENT depending on how you look at it\n",
    "\n",
    "All computer files are actually binary files, series of 0s and 1s. An encoding tells computer programs how to interpret those 0s and 1s in a useful way.\n",
    "\n",
    "A plain text file is one that is encoded as text, so that every computer program will know that it is text. The main encodings are called ASCII and Unicode (see https://www.geeksforgeeks.org/ascii-vs-unicode/).\n",
    "\n",
    "On your computer, you probably have text editors Notepad (Windows) or TextEdit (Mac). \n",
    "\n",
    "## Plain text files\n",
    "\n",
    "Might look like this:\n",
    "\n",
    "```\n",
    "Alice\n",
    "Bob\n",
    "Charmaine\n",
    "Deepak\n",
    "```\n",
    "\n",
    "Or this:\n",
    "\n",
    "```\n",
    "|\\---/|\n",
    "| o_o |\n",
    " \\_^_/\n",
    "```\n",
    "\n",
    "That chunk is an example of \"ascii art\", from https://www.asciiart.eu/animals/cats\n",
    "\n",
    "Feel free to draw your own ascii art in the following code chunk:"
   ]
  },
  {
   "cell_type": "raw",
   "id": "63fd521a-cf96-4f61-8e61-a3ee777d1a6c",
   "metadata": {},
   "source": []
  },
  {
   "cell_type": "markdown",
   "id": "277f85f2-7965-45a3-bc16-dddeacc2d4aa",
   "metadata": {},
   "source": [
    "\n",
    "Plain text files have *characters*, like A, b, T, -, /, ^, etc. Separated by line breaks, which are actually encoded invisibly as text using `\\n`.\n",
    "\n",
    "Python code is written in plain text!\n",
    "\n",
    "In this course there are 2 main plaintext formats that encode data:\n",
    "\n",
    "- Comma Separated Values (CSVs): plaintext files that use the file suffix .csv. In these files, each row of text represents one row in the data, and columns are separated by commas.\n",
    "- Tab Separated Values (TSVs): plaintext files that usually use the file suffix .txt or, less commonly, .tsv. In these files, each row of text represents one row in the data, and columns are separated by tabs (the special character denoting an indentation).\n",
    "\n",
    "What a .csv looks like:\n",
    "\n",
    "```\n",
    "Country,Region,Population\n",
    "UK,\"Europe\",67596281\n",
    "Brazil,\"S. America\",203080756\n",
    "Tuvalu,\"Oceania\",11900\n",
    "```\n",
    "\n",
    "What the same data look like in .tsv:\n",
    "```\n",
    "Country\\tRegion\\tPopulation\n",
    "UK\\t\"Europe\"\\t67596281\n",
    "Brazil\\t\"S. America\"\\t203080756\n",
    "Tuvalu\\t\"Oceania\"\\t11900\n",
    "```\n",
    "\n",
    "Here, `\\t` means \"tab\" as in \"tab-separated\". In fact, the end of a line is encoded with a \"\\n\", the backslash \"\\\" works to indicate a special character.\n",
    "\n",
    "In all cases, we have to tell Python or any other program to open the data in the right way."
   ]
  },
  {
   "cell_type": "code",
   "execution_count": null,
   "id": "e2c69e41",
   "metadata": {},
   "outputs": [],
   "source": [
    "print('Country\\tRegion\\tPopulation\\n',\n",
    "'UK\\t\"Europe\"\\t67596281\\n'\n",
    "'Brazil\\t\"S. America\"\\t203080756\\n'\n",
    "'Tuvalu\\t\"Oceania\"\\t11900\\n')"
   ]
  },
  {
   "cell_type": "markdown",
   "id": "8d9be8aa",
   "metadata": {},
   "source": [
    "# What's a binary file?\n",
    "\n",
    "Everything else! .xlsx, .docx, .jpeg, .xml, etc.\n",
    "\n",
    "Binary files tend to be stored more efficiently. They can contain more information, using less disk space. Or they can contain lots of formatting information. But they can also be less portable between different programs.\n",
    "\n",
    "For example, a portion of the data above from an .xlsx Excel spreadsheet looks like this:\n",
    "\n",
    "```\n",
    "<?xml version=\"1.0\" encoding=\"UTF-8\" standalone=\"yes\"?>\n",
    "<worksheet xmlns=\"http://schemas.openxmlformats.org/spreadsheetml/2006/main\" xmlns:r=\"http://schemas.openxmlformats.org/officeDocument/2006/relationships\" xmlns:mc=\"http://schemas.openxmlformats.org/markup-compatibility/2006\" mc:Ignorable=\"x14ac xr xr2 xr3\" xmlns:x14ac=\"http://schemas.microsoft.com/office/spreadsheetml/2009/9/ac\" xmlns:xr=\"http://schemas.microsoft.com/office/spreadsheetml/2014/revision\" xmlns:xr2=\"http://schemas.microsoft.com/office/spreadsheetml/2015/revision2\" xmlns:xr3=\"http://schemas.microsoft.com/office/spreadsheetml/2016/revision3\" xr:uid=\"{37925CF0-9FB6-DC4E-81C0-CCD26F80CB69}\"><dimension ref=\"A1:C4\"/><sheetViews><sheetView tabSelected=\"1\" workbookViewId=\"0\"><selection activeCell=\"A2\" sqref=\"A2\"/></sheetView></sheetViews><sheetFormatPr baseColWidth=\"10\" defaultRowHeight=\"16\" x14ac:dyDescent=\"0.2\"/><sheetData><row r=\"1\" spans=\"1:3\" x14ac:dyDescent=\"0.2\"><c r=\"A1\" t=\"s\"><v>0</v></c><c r=\"B1\" t=\"s\"><v>1</v></c><c r=\"C1\" t=\"s\"><v>2</v></c></row><row r=\"2\" spans=\"1:3\" x14ac:dyDescent=\"0.2\"><c r=\"A2\" t=\"s\"><v>8</v></c><c r=\"B2\" t=\"s\"><v>3</v></c><c r=\"C2\"><v>67596281</v></c></row><row r=\"3\" spans=\"1:3\" x14ac:dyDescent=\"0.2\"><c r=\"A3\" t=\"s\"><v>4</v></c><c r=\"B3\" t=\"s\"><v>5</v></c><c r=\"C3\"><v>203080756</v></c></row><row r=\"4\" spans=\"1:3\" x14ac:dyDescent=\"0.2\"><c r=\"A4\" t=\"s\"><v>6</v></c><c r=\"B4\" t=\"s\"><v>7</v></c><c r=\"C4\"><v>11900</v></c></row></sheetData><pageMargins left=\"0.7\" right=\"0.7\" top=\"0.75\" bottom=\"0.75\" header=\"0.3\" footer=\"0.3\"/></worksheet>\n",
    "```\n",
    "\n",
    "## The bottom line\n",
    "\n",
    "Check the format of your data! Check you have read it into data analysis as intended!"
   ]
  },
  {
   "cell_type": "markdown",
   "id": "ad90c42f",
   "metadata": {},
   "source": [
    "## An example: data frame to different filetypes"
   ]
  },
  {
   "cell_type": "code",
   "execution_count": null,
   "id": "ea0f0965",
   "metadata": {},
   "outputs": [],
   "source": [
    "# Import pandas library\n",
    "import pandas as pd"
   ]
  },
  {
   "cell_type": "code",
   "execution_count": null,
   "id": "7714f388",
   "metadata": {},
   "outputs": [],
   "source": [
    "# initialize list of lists\n",
    "data = [['alice', 10], ['bob', 15], ['charmaine', 15], ['deepak', 14]]\n",
    "\n",
    "# Create the pandas DataFrame\n",
    "df = pd.DataFrame(data, columns=['Name', 'Age'])\n",
    "\n",
    "# print dataframe.\n",
    "print(df)"
   ]
  },
  {
   "cell_type": "code",
   "execution_count": null,
   "id": "63b71b81",
   "metadata": {},
   "outputs": [],
   "source": [
    "# print the output in .csv format just in the notebook\n",
    "df.to_csv()"
   ]
  },
  {
   "cell_type": "code",
   "execution_count": null,
   "id": "75d0795f",
   "metadata": {},
   "outputs": [],
   "source": [
    "# print the output in .tsv format using a tab-separator\n",
    "df.to_csv(sep='\\t')"
   ]
  },
  {
   "cell_type": "code",
   "execution_count": null,
   "id": "569c23f9",
   "metadata": {},
   "outputs": [],
   "source": [
    "# write to file\n",
    "df.to_csv(path_or_buf='kids_ages.txt', sep='\\t')"
   ]
  },
  {
   "cell_type": "markdown",
   "id": "f630baff-d881-4d26-98ac-d484d54885a9",
   "metadata": {},
   "source": [
    "## Compressed files - gzip and so on\n",
    "\n",
    "Often files contain redundant information, so technically it would be possible to describe the same information using less space.\n",
    "\n",
    "One example is a data frame where a column repeats \"Biology\" 1000 times. It takes less text to say \"repeat 'Biology' 1000 times\" than to write out \"Biology, Biology, Biology, Biology, ...\"\n",
    "\n",
    "Compression algorithms, like gzip, are automated ways to encode files using less disk space, without losing information. A gzipped file is a binary file.\n",
    "\n",
    "We used this in class 2, where the downloaded file `species_genome_size.txt.gz` was actually compressed using gzip. If you unzip this, it will generate a file `species_genome_size.txt` that is a plain-text file. Python automatically decompresses, or \"unzips\", the file when it reads it in.\n",
    "\n",
    "Here, we can use Python's ability to zip and unzip files to avoid thinking about it. If we needed to inspect the file ourselves, to troubleshoot, then we'd want to unzip it.\n",
    "\n",
    "If you want the gory details, see [help on the Python gzip module](https://docs.python.org/3/library/gzip.html)."
   ]
  },
  {
   "cell_type": "code",
   "execution_count": null,
   "id": "44a466f6-c562-4aba-b106-087f565ba869",
   "metadata": {},
   "outputs": [],
   "source": [
    "# Code chunk repeated from class 2 main notebook\n",
    "from urllib.request import urlretrieve\n",
    "\n",
    "url_to_get_file = 'https://ftp.ncbi.nlm.nih.gov/genomes/ASSEMBLY_REPORTS/species_genome_size.txt.gz'\n",
    "filename_of_download = 'species_genome_size.txt.gz'\n",
    "\n",
    "urlretrieve(url_to_get_file, filename_of_download)"
   ]
  },
  {
   "cell_type": "markdown",
   "id": "b83a0210-c26b-4926-a2df-8d93b5ed7e01",
   "metadata": {},
   "source": [
    "# Defining filenames as variables\n",
    "\n",
    "Another thing that happened in that code chunk is that we named the file and url as variables in the python session. Then, we used those names to make the last line of code easier to read.\n",
    "\n",
    "We can use this to load the same file in without re-typing the filename. This is useful\n",
    "\n",
    "- to avoid repeating long names\n",
    "- to avoid spelling errors\n",
    "- to update for a different filename by changing only one line of code, where the filename variable is defined, rather than change every single line of code\n",
    "\n",
    " Example:"
   ]
  },
  {
   "cell_type": "code",
   "execution_count": null,
   "id": "381ccfb5-7a7a-4ad4-a238-274169cd49dd",
   "metadata": {},
   "outputs": [],
   "source": [
    "filename_of_download"
   ]
  },
  {
   "cell_type": "code",
   "execution_count": null,
   "id": "3e11be98-7de2-45ef-a2d0-b34b0945f4fc",
   "metadata": {},
   "outputs": [],
   "source": [
    "type(filename_of_download)"
   ]
  },
  {
   "cell_type": "code",
   "execution_count": null,
   "id": "d69a1a22-1815-408d-b601-5fd93da451b2",
   "metadata": {},
   "outputs": [],
   "source": [
    "# for answers - actually we could have used the filename already\n",
    "df_genomes = pd.read_table(filename_of_download)"
   ]
  },
  {
   "cell_type": "markdown",
   "id": "bb871038-0304-4875-a799-ac0b86ce8b45",
   "metadata": {},
   "source": [
    "A similar thing happens when we load a dataframe, as here we assign the data frame value `df_genomes` as we load in then we re-use it.\n",
    "\n",
    "Actually we do this all the time - assign values to variables, using the equals sign `=` as an assignment operator. \n",
    "\n",
    "To revise what is happening when we assign a value to a variable, try re-reading the [introduction to Python tutorial](https://docs.python.org/3/tutorial/introduction.html)."
   ]
  },
  {
   "cell_type": "markdown",
   "id": "6d3d7d82",
   "metadata": {},
   "source": [
    "## Exercises to know more\n",
    "\n",
    "Read the 'kids_ages.txt' dataset file with different programs.\n",
    "Try some other datasets.\n",
    "\n",
    "Find the help page for pandas `to_excel`, `read_excel`, and check that you can get data in and out of excel formats too."
   ]
  }
 ],
 "metadata": {
  "kernelspec": {
   "display_name": "Python 3 (ipykernel)",
   "language": "python",
   "name": "python3"
  },
  "language_info": {
   "codemirror_mode": {
    "name": "ipython",
    "version": 3
   },
   "file_extension": ".py",
   "mimetype": "text/x-python",
   "name": "python",
   "nbconvert_exporter": "python",
   "pygments_lexer": "ipython3",
   "version": "3.12.11"
  }
 },
 "nbformat": 4,
 "nbformat_minor": 5
}
