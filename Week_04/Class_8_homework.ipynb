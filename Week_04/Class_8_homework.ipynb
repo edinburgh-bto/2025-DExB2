{
 "cells": [
  {
   "cell_type": "markdown",
   "id": "2835257a-f8d0-426d-969f-66602c784a13",
   "metadata": {},
   "source": [
    "# Class 8 homework: revise statistical material from first year\n",
    "\n",
    "Class 8 homework is about revising statistical material from Biology 1A: Variation in the first year. You are expected to know this material in preparation for Week 5, and you may have deeper insight into the material based on the Python work that we have covered so far in Biology 2A.\n",
    "\n",
    "If you took Biology 1A: Variation last year you may already have all the material in the Variation1 folder on Noteable.\n",
    "\n",
    "If you didn't take the course, or have lost this material, you can upload it to Noteable as follows:\n",
    "\n",
    "1. Copy this URL https://github.com/edinburgh-bto/Variation1\n",
    "2. Click on Noteable link, above on this Learn page.\n",
    "3. Select \"Standard Notebook (Python 3)\".\n",
    "4. Click Start.\n",
    "5. Click on Git menu, then on clone a repository.\n",
    "6. Paste the above URL into the \"Git Repository URL\" box.\n",
    "7. Click Clone.\n",
    "8. On Noteable, navigate to the directory Variation1.\n",
    "\n",
    "The material you should read through before next week is in the Self-study Notebooks folder. The statistical notebooks are 3.1 to 3.6 and 4.1. \n",
    "\n",
    "The other notebooks 1.1 to 2.4 are about python coding and there's no need to read these. There is also no need to do any of the exercises in the Exercise notebooks. "
   ]
  },
  {
   "cell_type": "code",
   "execution_count": null,
   "id": "85d6814f-a1a2-433a-9ac9-12e500df0d09",
   "metadata": {},
   "outputs": [],
   "source": []
  }
 ],
 "metadata": {
  "kernelspec": {
   "display_name": "Python 3 (ipykernel)",
   "language": "python",
   "name": "python3"
  },
  "language_info": {
   "codemirror_mode": {
    "name": "ipython",
    "version": 3
   },
   "file_extension": ".py",
   "mimetype": "text/x-python",
   "name": "python",
   "nbconvert_exporter": "python",
   "pygments_lexer": "ipython3",
   "version": "3.12.11"
  }
 },
 "nbformat": 4,
 "nbformat_minor": 5
}
