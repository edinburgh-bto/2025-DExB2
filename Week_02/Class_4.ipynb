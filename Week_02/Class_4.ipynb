{
 "cells": [
  {
   "cell_type": "markdown",
   "id": "9cf2e050",
   "metadata": {},
   "source": [
    "# Class 4: Changing dataframe shape\n",
    "\n",
    "&nbsp;  \n",
    "In this class, we'll be looking at three additional tools for tidying your data - **transposing**, **melting** and **casting**. Transposing rotates the data so that rows become columns and vice versa. Melting converts a dataframe from wide to long format, and casting is the reverse. You'll be able to practice these techniques using a couple of different datasets."
   ]
  },
  {
   "cell_type": "markdown",
   "id": "1659ad3d",
   "metadata": {},
   "source": [
    "## Load the modules\n",
    "\n",
    "First, let's import pandas and seaborn."
   ]
  },
  {
   "cell_type": "code",
   "execution_count": null,
   "id": "1a64ed90",
   "metadata": {},
   "outputs": [],
   "source": [
    "import pandas as pd\n",
    "import seaborn as sns"
   ]
  },
  {
   "cell_type": "markdown",
   "id": "3f3dfe1b",
   "metadata": {},
   "source": [
    "## Transposing\n",
    "\n",
    "&nbsp;  \n",
    "<div>\n",
    "<img src=\"attachment:dna-163466_640.jpg\" width='50%' title=\"\"/>\n",
    "</div>\n",
    "&nbsp;  \n",
    "\n",
    "Start by loading in Infection_TPM.csv from the Datasets folder. This dataset includes transcripts per million (a measure of gene expression) of 7 genes. Call it df."
   ]
  },
  {
   "cell_type": "code",
   "execution_count": null,
   "id": "592654eb",
   "metadata": {},
   "outputs": [],
   "source": []
  },
  {
   "cell_type": "markdown",
   "id": "4cf577db",
   "metadata": {},
   "source": [
    "Now look at the top 5 rows of the dataset."
   ]
  },
  {
   "cell_type": "code",
   "execution_count": null,
   "id": "aa9ca644",
   "metadata": {},
   "outputs": [],
   "source": []
  },
  {
   "cell_type": "markdown",
   "id": "9f292985",
   "metadata": {},
   "source": [
    "To transpose the data, you can simply use `df = df.T`. Type this into the cell below and then check the dataset to see what it looks like."
   ]
  },
  {
   "cell_type": "code",
   "execution_count": null,
   "id": "f4e9fa5d",
   "metadata": {},
   "outputs": [],
   "source": []
  },
  {
   "cell_type": "markdown",
   "id": "0b79b63b",
   "metadata": {},
   "source": []
  },
  {
   "cell_type": "markdown",
   "id": "f811f599",
   "metadata": {},
   "source": [
    "You can see that our columns have become rows and our rows have become columns. The index is now the column headers and the column headers are now the index. For this dataset, it would make sense to make the first row the column headers. So let's define our new column headers and then drop the first row."
   ]
  },
  {
   "cell_type": "code",
   "execution_count": null,
   "id": "7578b8c6",
   "metadata": {},
   "outputs": [],
   "source": []
  },
  {
   "cell_type": "markdown",
   "id": "c62767cd",
   "metadata": {},
   "source": [
    "What happens if we want to analyse the differences between 'infected' and 'control' plants? Ideally, we would make two new columns - one for tissue (flower / leaf) and one for disease (infected / control). You may remember we did something similar in the last class by splitting strings. This time, however, it is the **index** that combines both pieces of information.\n",
    "\n",
    "Let's first make the index a column. We can do this using the `df.reset_index()` function. We can include `inplace = True` to make sure this happens on the original dataframe."
   ]
  },
  {
   "cell_type": "code",
   "execution_count": null,
   "id": "2bec0dc7",
   "metadata": {},
   "outputs": [],
   "source": []
  },
  {
   "cell_type": "code",
   "execution_count": null,
   "id": "95c7a60f",
   "metadata": {},
   "outputs": [],
   "source": []
  },
  {
   "cell_type": "markdown",
   "id": "5866bf49",
   "metadata": {},
   "source": [
    "This function creates a new column called 'index'. (Note: you can add `drop = True` into the df.reset_index function and the new 'index' column will be dropped). We can now split this 'index' column to make two new columns."
   ]
  },
  {
   "cell_type": "code",
   "execution_count": null,
   "id": "edf2ee27",
   "metadata": {},
   "outputs": [],
   "source": []
  },
  {
   "cell_type": "code",
   "execution_count": null,
   "id": "7eb3d0c3",
   "metadata": {},
   "outputs": [],
   "source": []
  },
  {
   "cell_type": "code",
   "execution_count": null,
   "id": "1e7e6c17",
   "metadata": {},
   "outputs": [],
   "source": []
  },
  {
   "cell_type": "markdown",
   "id": "9cadbb18",
   "metadata": {},
   "source": [
    "Write some code to drop the 'index' column as we dont need it anymore. Then check to see everything has worked as expected."
   ]
  },
  {
   "cell_type": "code",
   "execution_count": null,
   "id": "beacc874",
   "metadata": {},
   "outputs": [],
   "source": []
  },
  {
   "cell_type": "markdown",
   "id": "ddb96a34",
   "metadata": {},
   "source": [
    "Now that we have separated 'Disease' and 'Tissue', we can analyse these variables separately. For example, we might want to look at the differences in gene expression between Tissues:"
   ]
  },
  {
   "cell_type": "code",
   "execution_count": null,
   "id": "22cab1a5",
   "metadata": {},
   "outputs": [],
   "source": []
  },
  {
   "cell_type": "markdown",
   "id": "4c4386b3",
   "metadata": {},
   "source": [
    "## Melting"
   ]
  },
  {
   "cell_type": "markdown",
   "id": "597a83f8",
   "metadata": {},
   "source": [
    "How could we tidy these data further? At the moment, all of our TPM values are distributed over the first 6 columns. However, it is often useful to have all our measured values in a single column. We call this converting from 'wide form' to 'long form'. For our dataset, this would mean we would end up with four columns: Gene_ID, Disease, Tissue and TPM.\n",
    "\n",
    "To do this, we can use the function `pd.melt`. This takes the form `pd.melt(dataframe, id_vars, value_vars, var_name, value_name...)`.\n",
    "\n",
    "- `id_vars` are the identifier variables. These are the variables (or columns) that do not contain our values. In our case, these are Disease and Tissue.\n",
    "- `value_vars` are the variables (or columns) that contain our values. In our case, these are NLR_1, NLR_2, JA_34, JA_13, JA_5, Aux_3 and Aux_4.\n",
    "- `var_name` is the name we want to assign to our variable column. In this case, we shall call it 'Gene_ID'.\n",
    "- `value_name` is the name we want to assign to our column of values. In this case, we shall call in 'TPM'.\n",
    "\n",
    "Let's try it..."
   ]
  },
  {
   "cell_type": "code",
   "execution_count": null,
   "id": "304a0dad",
   "metadata": {},
   "outputs": [],
   "source": []
  },
  {
   "cell_type": "markdown",
   "id": "dfd3619f",
   "metadata": {},
   "source": []
  },
  {
   "cell_type": "code",
   "execution_count": null,
   "id": "3bfa46f5",
   "metadata": {},
   "outputs": [],
   "source": []
  },
  {
   "cell_type": "markdown",
   "id": "e567f059",
   "metadata": {},
   "source": []
  },
  {
   "cell_type": "markdown",
   "id": "930cda98",
   "metadata": {},
   "source": [
    "Having data in long form like this makes it easier to perform various analyses. For example, we can now plot a similar graph to the one above but incorporating data from all the genes this time."
   ]
  },
  {
   "cell_type": "code",
   "execution_count": null,
   "id": "223ba478",
   "metadata": {},
   "outputs": [],
   "source": []
  },
  {
   "cell_type": "markdown",
   "id": "106667b5",
   "metadata": {},
   "source": [
    "This 'tidy data' form makes it easy to summarise by groups.  How would you get the mean and standard deviation of the gene expression levels by tissue?  By disease state?"
   ]
  },
  {
   "cell_type": "code",
   "execution_count": null,
   "id": "ed2e6b5b",
   "metadata": {},
   "outputs": [],
   "source": []
  },
  {
   "cell_type": "markdown",
   "id": "0a9e8a76",
   "metadata": {},
   "source": [
    "We can break down the data further by gene..."
   ]
  },
  {
   "cell_type": "code",
   "execution_count": null,
   "id": "1e36c5c4",
   "metadata": {},
   "outputs": [],
   "source": []
  },
  {
   "cell_type": "markdown",
   "id": "2e788cff",
   "metadata": {},
   "source": [
    "Or we can look at the different 'tissues' separately..."
   ]
  },
  {
   "cell_type": "code",
   "execution_count": null,
   "id": "e2b336a1",
   "metadata": {},
   "outputs": [],
   "source": []
  },
  {
   "cell_type": "markdown",
   "id": "4a56bf9d",
   "metadata": {},
   "source": [
    "All this is easier because we have the dataframe arranged in a 'tidy' manner."
   ]
  },
  {
   "cell_type": "markdown",
   "id": "0f5c7554",
   "metadata": {},
   "source": [
    "## Casting\n",
    "\n",
    "Casting is the reverse of melting i.e. it converts long form data into wide form. We can do this using the `pd.pivot` function. This takes the form `pd.pivot(dataframe, columns, index, values...)`.\n",
    "\n",
    "- `columns` is the column that we want to use to make the new dataframe's columns. In this case, it is Gene_ID.\n",
    "- `index` is the column(s) that we want to use to make the new dataframe’s index. Let's do this with 'Tissue' and 'Disease'.\n",
    "- `values` is the column containing our values. In this case, it is TPM."
   ]
  },
  {
   "cell_type": "code",
   "execution_count": null,
   "id": "ec9f55c6",
   "metadata": {},
   "outputs": [],
   "source": []
  },
  {
   "cell_type": "markdown",
   "id": "87ce1a47",
   "metadata": {},
   "source": [
    "You might have noticed that we now have a multi-level index. We can reset 'Tissue' and 'Disease' to columns using `reset_index(inplace = True)`.\n",
    "This makes the dataframe easier to read - which presumbly is why we wanted this wide-form data - as a table."
   ]
  },
  {
   "cell_type": "code",
   "execution_count": null,
   "id": "fbbb48cd",
   "metadata": {},
   "outputs": [],
   "source": []
  },
  {
   "cell_type": "markdown",
   "id": "6183f860",
   "metadata": {},
   "source": [
    "### More practice with tidy data\n",
    "\n",
    "Read in the Leaves.csv file in the Datasets folder and check things look OK."
   ]
  },
  {
   "cell_type": "code",
   "execution_count": null,
   "id": "7efeeb8a",
   "metadata": {},
   "outputs": [],
   "source": []
  },
  {
   "cell_type": "code",
   "execution_count": null,
   "id": "bf89d24c",
   "metadata": {},
   "outputs": [],
   "source": []
  },
  {
   "cell_type": "code",
   "execution_count": null,
   "id": "aa717da4",
   "metadata": {},
   "outputs": [],
   "source": []
  },
  {
   "cell_type": "markdown",
   "id": "e1f57f72",
   "metadata": {},
   "source": [
    "This dataset includes counts of hairs on the abaxial (underside) and adaxial (upperside) of ten leaves per plant (columns '1', '2' '3' ...), along with the expression levels for three genes (an average from three biological replicates) (ADH1, SSC2 and SSC3) and the genotype of each plant.\n",
    "\n",
    "You can see that the data are in a horrible format! There are really 20 hair counts per plant (10 adaxial and 10 abaxial) but these have been split across 2 rows. This has generated a large number of NaNs.\n",
    "\n",
    "Let's deal with this first. We can use a function called `df.fillna` to fill these NaNs with something more meaningful. In our case, it makes sense to simply copy the information from the row above. We can do this using `df.fillna(method = 'ffill', inplace = True)`. Type this in to the cell below and have another look at your dataframe to see what it has done."
   ]
  },
  {
   "cell_type": "code",
   "execution_count": null,
   "id": "07e022f6",
   "metadata": {},
   "outputs": [],
   "source": []
  },
  {
   "cell_type": "markdown",
   "id": "295d80d6",
   "metadata": {},
   "source": [
    "Now have a go melting your dataset into long form. Our identifier variables will be 'Plant', 'Genotype', 'ADH1', 'SSC2', 'SSC3' and 'Side'. Our values (or observations) are contained in the columns '1', '2' and '3'. Call your variable name 'Sample' and your value name 'Count'."
   ]
  },
  {
   "cell_type": "code",
   "execution_count": null,
   "id": "72b6a0ce",
   "metadata": {},
   "outputs": [],
   "source": []
  },
  {
   "cell_type": "markdown",
   "id": "82d5fe2a",
   "metadata": {},
   "source": [
    "What is the mean and sd for hair count on the adaxial and abaxial sides of the leaf?"
   ]
  },
  {
   "cell_type": "code",
   "execution_count": null,
   "id": "3ac65c3f",
   "metadata": {},
   "outputs": [],
   "source": []
  },
  {
   "cell_type": "markdown",
   "id": "49b67eb5",
   "metadata": {},
   "source": [
    "What is the mean and sd for hair count on ddm1/ddm1, ddm/+ and +/+ leaves?"
   ]
  },
  {
   "cell_type": "code",
   "execution_count": null,
   "id": "cdfab395",
   "metadata": {},
   "outputs": [],
   "source": []
  },
  {
   "cell_type": "markdown",
   "id": "42662c38",
   "metadata": {},
   "source": [
    "And grouping by Side and Genotype?"
   ]
  },
  {
   "cell_type": "code",
   "execution_count": null,
   "id": "3fcccdcf",
   "metadata": {},
   "outputs": [],
   "source": []
  },
  {
   "cell_type": "markdown",
   "id": "2788b51f",
   "metadata": {},
   "source": [
    "What is the mean hair count by side for plants with ADH1 expression over 200?  Use df_melt.query(\"ADH1 > 200\").groupby()"
   ]
  },
  {
   "cell_type": "code",
   "execution_count": null,
   "id": "79066e56",
   "metadata": {},
   "outputs": [],
   "source": []
  },
  {
   "cell_type": "markdown",
   "id": "29b801ec",
   "metadata": {},
   "source": [
    "And finally, use the following code to show the difference in hair counts between the adaxial and abaxial sides of the leaf for the different genotypes: `sns.catplot(x = 'Genotype', y = 'Count', hue = 'Side', data = df_melt, kind = 'bar');`."
   ]
  },
  {
   "cell_type": "code",
   "execution_count": null,
   "id": "9b7cee43",
   "metadata": {},
   "outputs": [],
   "source": []
  },
  {
   "cell_type": "markdown",
   "id": "b12f3d78",
   "metadata": {},
   "source": [
    "## What to do next \n",
    "\n",
    "Class 4 homework gives more practise on re-shaping data, and on the material from previous classes.\n",
    "\n",
    "You can also spend some time this week going over all the material we have covered so far. Are there any functions that you don't understand? Have a go playing with these on some other datasets. And if you haven't already, start putting together your own cheat sheet of useful functions."
   ]
  },
  {
   "cell_type": "code",
   "execution_count": null,
   "id": "445263a3",
   "metadata": {},
   "outputs": [],
   "source": []
  }
 ],
 "metadata": {
  "kernelspec": {
   "display_name": "Python 3 (ipykernel)",
   "language": "python",
   "name": "python3"
  },
  "language_info": {
   "codemirror_mode": {
    "name": "ipython",
    "version": 3
   },
   "file_extension": ".py",
   "mimetype": "text/x-python",
   "name": "python",
   "nbconvert_exporter": "python",
   "pygments_lexer": "ipython3",
   "version": "3.12.11"
  }
 },
 "nbformat": 4,
 "nbformat_minor": 5
}
