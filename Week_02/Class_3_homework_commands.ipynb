{
 "cells": [
  {
   "cell_type": "markdown",
   "id": "6da862e9",
   "metadata": {},
   "source": [
    "# Class 3 homework: understanding python commands\n",
    "\n",
    "This notebook briefly revises how to think about python syntax and break down commands to build your understanding. It connects to and builds on the Class 1 homework, so you may wish to revise that first.\n",
    "\n",
    "The main idea is that **complex commands are built up from simple commands**. So, understanding a complex command involves breaking it down into simple parts. And, doing something complex involves putting together the right simpler ingredients.\n",
    "\n",
    "We will start by loading a data frame.\n"
   ]
  },
  {
   "cell_type": "code",
   "execution_count": null,
   "id": "8ad98df0",
   "metadata": {},
   "outputs": [],
   "source": [
    "import pandas as pd\n",
    "import numpy as np"
   ]
  },
  {
   "cell_type": "code",
   "execution_count": null,
   "id": "5bdca7bf",
   "metadata": {},
   "outputs": [],
   "source": [
    "df = pd.read_csv('../Datasets/count.csv')"
   ]
  },
  {
   "cell_type": "markdown",
   "id": "c785e707",
   "metadata": {},
   "source": [
    "## Reminder: punctuation, quotes, brackets, are important!\n",
    "\n",
    "What's going on in each of these lines of code?\n",
    "\n",
    "Try to predict what each line does, then run it and try to understand the output or error message."
   ]
  },
  {
   "cell_type": "code",
   "execution_count": null,
   "id": "d66bd8c6",
   "metadata": {},
   "outputs": [],
   "source": [
    "df"
   ]
  },
  {
   "cell_type": "code",
   "execution_count": null,
   "id": "07708cf1",
   "metadata": {},
   "outputs": [],
   "source": [
    "\"df\""
   ]
  },
  {
   "cell_type": "code",
   "execution_count": null,
   "id": "d9b5d002",
   "metadata": {},
   "outputs": [],
   "source": [
    "'df'"
   ]
  },
  {
   "cell_type": "code",
   "execution_count": null,
   "id": "0257a75e",
   "metadata": {},
   "outputs": [],
   "source": [
    "print(df)"
   ]
  },
  {
   "cell_type": "code",
   "execution_count": null,
   "id": "3ad99c5d",
   "metadata": {},
   "outputs": [],
   "source": [
    "print(\"df\")"
   ]
  },
  {
   "cell_type": "code",
   "execution_count": null,
   "id": "9a310df7",
   "metadata": {},
   "outputs": [],
   "source": [
    "print(\"df'\")"
   ]
  },
  {
   "cell_type": "markdown",
   "id": "a477fd32",
   "metadata": {},
   "source": [
    "## Breaking down a complex command into parts\n",
    "\n",
    "Suppose you encounter a complex command, how do you go about understanding it?\n",
    "\n",
    "For example, the next command."
   ]
  },
  {
   "cell_type": "code",
   "execution_count": null,
   "id": "b3edf956",
   "metadata": {},
   "outputs": [],
   "source": [
    "np.log10(df.iloc[:, 1:2])"
   ]
  },
  {
   "cell_type": "markdown",
   "id": "0b9d2ab9",
   "metadata": {},
   "source": [
    "How can you figure out this complex command?\n",
    "\n",
    "Break it down from the inside to the outside. Ask for help.\n",
    "\n",
    "Try these commands, then try to explain in words what the more complex command is doing."
   ]
  },
  {
   "cell_type": "code",
   "execution_count": null,
   "id": "3bd1ca88",
   "metadata": {},
   "outputs": [],
   "source": [
    "df.iloc?"
   ]
  },
  {
   "cell_type": "code",
   "execution_count": null,
   "id": "9e620772",
   "metadata": {},
   "outputs": [],
   "source": [
    "df.iloc[:, 1:2]"
   ]
  },
  {
   "cell_type": "markdown",
   "id": "c6129ebb",
   "metadata": {},
   "source": [
    "Try some variations on that command - edit the `:` and the numbers to see what changes."
   ]
  },
  {
   "cell_type": "code",
   "execution_count": null,
   "id": "77381f6c",
   "metadata": {},
   "outputs": [],
   "source": [
    "?np.log10"
   ]
  },
  {
   "cell_type": "markdown",
   "id": "d68464c3-68e1-42b3-8fb5-8ffc806fd9d6",
   "metadata": {},
   "source": [
    "## Another complex command\n",
    "\n",
    "Take the same approach to the following command. This one builds up a complex command using the Python approach where a method, or bound function, is added on to the end of a variable with a dot. Just like, we run the function `head` on a data frame like `df` by typing `df.head()`.\n",
    "\n",
    "Only, this command does that again and again.\n"
   ]
  },
  {
   "cell_type": "code",
   "execution_count": null,
   "id": "c1d82082-1f22-4dc5-b334-9b4218e2797a",
   "metadata": {},
   "outputs": [],
   "source": [
    "pd.read_csv('../Datasets/gannets.csv').sort_values('male', ascending = False).head(10)"
   ]
  },
  {
   "cell_type": "markdown",
   "id": "d2d435f6-312a-4cc6-a914-d39cb7c0f6c5",
   "metadata": {},
   "source": [
    "Don't panic! What are the simple parts? Can you ask for help on them? What does each one do?"
   ]
  },
  {
   "cell_type": "code",
   "execution_count": null,
   "id": "4eea612f-da4b-4200-89fe-6db9c8937531",
   "metadata": {},
   "outputs": [],
   "source": []
  },
  {
   "cell_type": "code",
   "execution_count": null,
   "id": "18df4d3f-ae2e-42b5-a2c4-3b5c20acde98",
   "metadata": {},
   "outputs": [],
   "source": []
  },
  {
   "cell_type": "code",
   "execution_count": null,
   "id": "e002e167-c09a-46f8-b319-47308a5c5663",
   "metadata": {},
   "outputs": [],
   "source": []
  },
  {
   "cell_type": "markdown",
   "id": "94ca2e51-07d1-45a8-a426-33a9308be65c",
   "metadata": {},
   "source": [
    "In this example, it would give more readable code to first load the data and assign in to a data frame. Then to sort values, and so on. This step-by-step approach is what we've been doing in most of the class notebooks.\n",
    "\n",
    "In a previous homework, we remarked that there are many ways to do the same thing, and that's the worst part about learning Python. Sometimes one way to do something is easier to follow than another way, for example, if it's clear that one step is happening at a time. Try doing things so that they are easy to follow."
   ]
  },
  {
   "cell_type": "markdown",
   "id": "23e0ab01-5ce6-43ed-9d68-d40ee15e6990",
   "metadata": {},
   "source": [
    "## Order and repetition\n",
    "\n",
    "What's happening in the following code, if you run it in order?\n",
    "\n",
    "For each line, first try to predict what the outcome will be, and then run the line and try to understand the result."
   ]
  },
  {
   "cell_type": "code",
   "execution_count": null,
   "id": "8d07a0aa-56c4-4bc7-8e60-bccafff2eaab",
   "metadata": {},
   "outputs": [],
   "source": [
    "x = 0"
   ]
  },
  {
   "cell_type": "code",
   "execution_count": null,
   "id": "627d94c6-b40c-45f1-84df-8f8fcd764ef8",
   "metadata": {},
   "outputs": [],
   "source": [
    "print(x)"
   ]
  },
  {
   "cell_type": "code",
   "execution_count": null,
   "id": "bfffaca8-7180-48d2-a701-d6f8d831c0c4",
   "metadata": {},
   "outputs": [],
   "source": [
    "x = x + 1"
   ]
  },
  {
   "cell_type": "code",
   "execution_count": null,
   "id": "dbcd2251-54bf-41d8-84a0-e31b6abe007b",
   "metadata": {},
   "outputs": [],
   "source": [
    "print(x)"
   ]
  },
  {
   "cell_type": "code",
   "execution_count": null,
   "id": "32240e3c-6834-4daa-8618-0fc1f50c2f2d",
   "metadata": {},
   "outputs": [],
   "source": [
    "x = x + 1"
   ]
  },
  {
   "cell_type": "code",
   "execution_count": null,
   "id": "5412b2dc-4a36-4b54-8ddf-ed8dd69051a4",
   "metadata": {},
   "outputs": [],
   "source": [
    "print(x)"
   ]
  },
  {
   "cell_type": "markdown",
   "id": "3bb93b52-6b78-4a42-a7fc-6dc1d2f7799b",
   "metadata": {},
   "source": [
    "We now introduce the `del` function, that deletes a variable from the Python workspace."
   ]
  },
  {
   "cell_type": "code",
   "execution_count": null,
   "id": "9b3d7fc4-3852-4d4a-a98d-5762a0c8d05a",
   "metadata": {},
   "outputs": [],
   "source": [
    "del(x)"
   ]
  },
  {
   "cell_type": "code",
   "execution_count": null,
   "id": "94de9ece-0dfc-4ab6-9eb6-ed7d411ad595",
   "metadata": {},
   "outputs": [],
   "source": [
    "print(x)"
   ]
  },
  {
   "cell_type": "code",
   "execution_count": null,
   "id": "8bbf6330-a117-4ce6-a481-8fb64bd0e9cd",
   "metadata": {},
   "outputs": [],
   "source": [
    "x = 'life is full of change'"
   ]
  },
  {
   "cell_type": "code",
   "execution_count": null,
   "id": "7d8d4a36-4da5-451e-97d1-25b1f26aa8e0",
   "metadata": {},
   "outputs": [],
   "source": [
    "print(x)"
   ]
  },
  {
   "cell_type": "markdown",
   "id": "4d103c47-b320-41ce-9269-4ce620dc6fc6",
   "metadata": {},
   "source": [
    "These pieces of code illustrate that you can run the same line of code, and get different output, based on what other code has been run first.\n",
    "\n",
    "In this case, `print(x)` prints the value of a variable, `x`. If the value of `x` changes, then the outcome is different. Same if we add one to `x`.\n",
    "\n",
    "This makes it risky to write code where we change the value of a variable without changing the same name. We have done this in notebooks before, for example in Class 3 notebook:"
   ]
  },
  {
   "cell_type": "code",
   "execution_count": null,
   "id": "7d793f63-d06d-48f0-bf66-6840cb5e0c6e",
   "metadata": {},
   "outputs": [],
   "source": [
    "df"
   ]
  },
  {
   "cell_type": "code",
   "execution_count": null,
   "id": "f848092c-8be1-4251-b7de-23a9f622fda5",
   "metadata": {},
   "outputs": [],
   "source": [
    "df['Cereals'] = df['Barley'] + df['Oats']"
   ]
  },
  {
   "cell_type": "code",
   "execution_count": null,
   "id": "1c7f64d0-b72f-4f52-844c-9abe274d2e72",
   "metadata": {},
   "outputs": [],
   "source": [
    "df"
   ]
  },
  {
   "cell_type": "markdown",
   "id": "802e4cbc-3229-4f91-b46f-53e2434f1a2c",
   "metadata": {},
   "source": [
    "Sometimes this makes for readable code, but it creates the risk that you overwrite something you need, or get confused in circular logic.\n",
    "\n",
    "This can be avoided by:\n",
    "\n",
    "1. giving new values new names\n",
    "2. if things get confusing, start again\n",
    "\n",
    "What do we mean \"start again\"? The small way to do this is to use `del` to delete the confused variable, or create it again from the beginning.\n",
    "\n",
    "The big way to start again is to restart the entire Python session and run from the beginning. In Noteable, Kernel menu, then \"Restart Kernel\" is the command that does that. After restarting, you can fix the problem lines of code.\n",
    "\n",
    "For example, to check that the code in these notebooks will work for you, the course team has Restarted the Kernel and re-run every line of code from the beginning, in the answers notebooks."
   ]
  },
  {
   "cell_type": "markdown",
   "id": "53acac2c-4ce6-4f52-b94d-119fbe039cee",
   "metadata": {},
   "source": [
    "As you practise with Python, you'll built your mental model of what is happening and how variables are updated as code runs. Try to practise some more here."
   ]
  },
  {
   "cell_type": "code",
   "execution_count": null,
   "id": "ab232010-454a-4daa-8162-41b89006f15f",
   "metadata": {},
   "outputs": [],
   "source": []
  },
  {
   "cell_type": "code",
   "execution_count": null,
   "id": "3bdfe288-9959-4816-890c-4b277615bcbd",
   "metadata": {},
   "outputs": [],
   "source": []
  },
  {
   "cell_type": "code",
   "execution_count": null,
   "id": "77c2bf6d-6869-4df3-af60-b6d1da43fbd2",
   "metadata": {},
   "outputs": [],
   "source": []
  },
  {
   "cell_type": "markdown",
   "id": "7a1c6fbb-d9ff-4419-b700-780d8d361e4c",
   "metadata": {},
   "source": [
    "## When disaster strikes\n",
    "\n",
    "It is possible for code to be so wrong, that you need to start again. Even by accident.\n",
    "\n",
    "The next example has happened many times with students on this course.\n",
    "\n",
    "Again, for each line, first try to predict what the outcome will be, and then run the line and try to understand the result."
   ]
  },
  {
   "cell_type": "code",
   "execution_count": null,
   "id": "f5bde51c-eaa1-4501-b21a-a054acf6a57f",
   "metadata": {},
   "outputs": [],
   "source": [
    "year"
   ]
  },
  {
   "cell_type": "code",
   "execution_count": null,
   "id": "83699a20-354d-4a54-8be8-2969c57db441",
   "metadata": {},
   "outputs": [],
   "source": [
    "# this assigns the value 1965 to the variable year\n",
    "year = 1965 "
   ]
  },
  {
   "cell_type": "code",
   "execution_count": null,
   "id": "fb1985c9-0d14-4e03-b2b8-76520fd0e2c7",
   "metadata": {},
   "outputs": [],
   "source": [
    "print"
   ]
  },
  {
   "cell_type": "markdown",
   "id": "dd74825d-b494-4699-b17e-707ce4eb92b4",
   "metadata": {},
   "source": [
    "The next line is where disaster strikes..."
   ]
  },
  {
   "cell_type": "code",
   "execution_count": null,
   "id": "74c7978a-7a26-407d-9d24-452ecd667c7c",
   "metadata": {},
   "outputs": [],
   "source": [
    "print = year"
   ]
  },
  {
   "cell_type": "code",
   "execution_count": null,
   "id": "cbe45498-2837-4016-b2d2-dd108d8744fc",
   "metadata": {},
   "outputs": [],
   "source": [
    "print(year)"
   ]
  },
  {
   "cell_type": "code",
   "execution_count": null,
   "id": "b0aff4cf-45d7-45b7-82c5-37669915c1b4",
   "metadata": {},
   "outputs": [],
   "source": [
    "print"
   ]
  },
  {
   "cell_type": "markdown",
   "id": "99155adc-f8e0-4aae-8be8-2dc71d493339",
   "metadata": {},
   "source": [
    "You may think \"this shouldn't be possible\", and many would agree. The assignment `print = year` has changed the value of `print`, so that the `print` function no longer works. Other similar problems can happen with unintended assignment of values to variables.\n",
    "\n",
    "However, we can recover. In this case, deleting the new variable fixes the problem."
   ]
  },
  {
   "cell_type": "code",
   "execution_count": null,
   "id": "3a7936ea-99e5-4dea-8de4-9e09874bf14b",
   "metadata": {},
   "outputs": [],
   "source": [
    "del(print)"
   ]
  },
  {
   "cell_type": "code",
   "execution_count": null,
   "id": "50bf6fc6-bf3c-41fa-9c2f-1a6ee16f3c50",
   "metadata": {},
   "outputs": [],
   "source": [
    "print"
   ]
  },
  {
   "cell_type": "markdown",
   "id": "10955611-401d-45cb-a071-743c89071018",
   "metadata": {},
   "source": [
    "But if everything seems hopelessly confusing, and we find ourselves re-running the same code chunks again and again, it's time to restart the kernel."
   ]
  },
  {
   "cell_type": "markdown",
   "id": "3bfab66d",
   "metadata": {},
   "source": [
    "## More intro to python material\n",
    "\n",
    "- Software Carpentry python novice\n",
    " https://swcarpentry.github.io/python-novice-inflammation/\n",
    "- Variation 1 self-study notebooks\n",
    " https://github.com/edinburgh-bto/Variation1\n",
    "- Python for Biologists, Martin Jones (also at library)\n",
    "https://pythonforbiologists.com/tutorial/"
   ]
  }
 ],
 "metadata": {
  "kernelspec": {
   "display_name": "Python 3 (ipykernel)",
   "language": "python",
   "name": "python3"
  },
  "language_info": {
   "codemirror_mode": {
    "name": "ipython",
    "version": 3
   },
   "file_extension": ".py",
   "mimetype": "text/x-python",
   "name": "python",
   "nbconvert_exporter": "python",
   "pygments_lexer": "ipython3",
   "version": "3.12.11"
  }
 },
 "nbformat": 4,
 "nbformat_minor": 5
}
